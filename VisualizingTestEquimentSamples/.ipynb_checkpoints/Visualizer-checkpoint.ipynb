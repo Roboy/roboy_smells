{
 "cells": [
  {
   "cell_type": "code",
   "execution_count": null,
   "metadata": {},
   "outputs": [],
   "source": [
    "import numpy as np\n",
    "import csv\n",
    "from datetime import datetime\n",
    "#from datetime import time as dt_time\n",
    "import matplotlib.pyplot as plt; plt.rcdefaults()\n",
    "from mpl_toolkits.mplot3d import Axes3D\n",
    "import os\n",
    "import glob\n",
    "import pandas as pd\n",
    "from sklearn import decomposition\n",
    "from sklearn.preprocessing import scale\n",
    "from sklearn.decomposition import PCA\n",
    "import time\n",
    "import random"
   ]
  },
  {
   "cell_type": "code",
   "execution_count": null,
   "metadata": {
    "scrolled": true
   },
   "outputs": [],
   "source": [
    "def convert_to_datetime(possible_date):\n",
    "    return datetime.strptime(possible_date, \"%d.%m.%Y - %H:%M:%S\")\n",
    "\n",
    "def read_data_csv(file_name, debug=False):\n",
    "    \n",
    "    functionalisations = [0,2,2,2,2,0,0,0,0,0,0,3,3,3,3,3,3,3,3,3,3,0,0,0,0,0,0,4,4,4,4,4,4,4,4,4,4,0,0,0,0,0,0,1,1,1,1,1,1,1,1,1,1,0,0,0,0,0,0,2,2,2,2,2]\n",
    "\n",
    "    #stored in the form of timestamp as key, as value you have another dictionary with 'channels', \n",
    "    #'temperature, gas, humidity, pressure, altitude, label', \n",
    "    data = {}\n",
    "    \n",
    "  \n",
    "\n",
    "    with open(file_name) as csvfile:\n",
    "        reader = csv.reader(csvfile, delimiter=',')\n",
    "\n",
    "        #skip header\n",
    "        next(reader)\n",
    "        i = 0\n",
    "        #parsing data\n",
    "        for row in reader:\n",
    "            row_data = {}\n",
    "            if(row[-1] != 'null'):\n",
    "                row_data['channels'] = np.array(row[1:-6]).astype(np.float) \n",
    "                row_data['temperature'] = row[-6]\n",
    "                row_data['gas'] = row[-5]\n",
    "                row_data['humidity'] = row[-4]\n",
    "                row_data['pressure'] = row[-3]\n",
    "                row_data['altitude'] = row[-2]\n",
    "                row_data['label'] = row[-1]\n",
    "                data[time.ctime(float(row[0]))] = row_data\n",
    "\n",
    "    return functionalisations ,data\n",
    "\n",
    "def read_all_files_in_folder(folder_name, extension=\"csv\", debug=False):\n",
    "    all_data = {}\n",
    "    for file in glob.glob(os.path.join(folder_name,'*.{}'.format(extension))):\n",
    "        data = read_data_csv(file,debug)\n",
    "        all_data.update(data)\n",
    "        \n",
    "    return functionalisations ,all_data"
   ]
  },
  {
   "cell_type": "code",
   "execution_count": null,
   "metadata": {},
   "outputs": [],
   "source": [
    "def standardize_measurements(data, num_channels=64, use_last=5, debug=False):\n",
    "    in_label = False\n",
    "    prev_meas = None\n",
    "    \n",
    "    for ts in data:\n",
    "        row_data = data[ts]\n",
    "        \n",
    "        if prev_meas is None:\n",
    "            prev_meas = row_data['channels']\n",
    "        else:\n",
    "            if debug:\n",
    "                #print(\"row data shape:\",np.array(row_data['channels']).shape)\n",
    "                #print(\"prev_meas shape:\", prev_meas.shape)\n",
    "                #print(\"row_data label: \",row_data['label'])\n",
    "                print(ts)\n",
    "            prev_meas = np.vstack((prev_meas, row_data['channels']))\n",
    "            prev_meas = prev_meas[-use_last:, :]\n",
    "            \n",
    "        #assuming that two different labels are not directly after one another\n",
    "        if row_data['label'] != '' and not in_label:\n",
    "            in_label = True\n",
    "            current_means = np.mean(prev_meas, axis=0)\n",
    "        \n",
    "        if row_data['label'] == '':\n",
    "            in_label = False\n",
    "            \n",
    "        if in_label:\n",
    "            if debug:\n",
    "                print(\"current_means:\", current_means)\n",
    "                print(\"channels:\",row_data['channels'])\n",
    "                print(\"standardized:\",row_data['channels']/current_means)\n",
    "            row_data['channels'] = row_data['channels']/current_means\n",
    "            \n",
    "    return data"
   ]
  },
  {
   "cell_type": "code",
   "execution_count": null,
   "metadata": {},
   "outputs": [],
   "source": [
    "def get_labeled_measurements(data, debug=False):\n",
    "    current_label = ''\n",
    "    \n",
    "    current_measurement = None\n",
    "    \n",
    "    measurements = {}\n",
    "    meas_data = {}\n",
    "    \n",
    "    for ts in data:\n",
    "        row_data = data[ts]\n",
    "        if debug:\n",
    "            ##print(\"row data label:\",row_data['label'])\n",
    "            #print(\"current label:\", current_label)\n",
    "            same = current_label == row_data['label']\n",
    "            issame = current_label is row_data['label']\n",
    "            #print(\"same:\",same,\"; issame:\",issame)\n",
    "        \n",
    "        if current_label != row_data['label']:\n",
    "            #change of labels\n",
    "            if debug:\n",
    "                print(\"change in labels; cl:\",current_label,\" - rdl:\",row_data['label'])\n",
    "            \n",
    "            if current_label != '':\n",
    "                if debug:\n",
    "                    print(\"new measurement; cl:\",current_label,\" - rdl:\",row_data['label'])\n",
    "                meas_data['data'] = current_measurement\n",
    "                meas_data['label'] = current_label\n",
    "                \n",
    "                measurements[time_stamp] = meas_data\n",
    "                \n",
    "            current_label = row_data['label']\n",
    "            time_stamp = ts\n",
    "            meas_data = {}\n",
    "            \n",
    "        if current_label != '' and current_label == row_data['label']:\n",
    "            if current_measurement is None:\n",
    "                current_measurement = row_data['channels']\n",
    "            else:\n",
    "                current_measurement = np.vstack((current_measurement, row_data['channels']))    \n",
    "         \n",
    "    if current_label is not '':\n",
    "        meas_data['data'] = current_measurement\n",
    "        meas_data['label'] = current_label\n",
    "\n",
    "        measurements[time_stamp] = meas_data\n",
    "        \n",
    "    return measurements"
   ]
  },
  {
   "cell_type": "code",
   "execution_count": null,
   "metadata": {},
   "outputs": [],
   "source": [
    "def get_measurement_averages(measurements):\n",
    "    for ts in measurements:\n",
    "        mean_meas = np.mean(measurements[ts]['data'], axis=0)\n",
    "        measurements[ts]['avgs'] = mean_meas\n",
    "        \n",
    "    return measurements"
   ]
  },
  {
   "cell_type": "code",
   "execution_count": null,
   "metadata": {},
   "outputs": [],
   "source": [
    "def get_measurement_peak_average(measurements, num_samples=10):\n",
    "    \n",
    "    for ts in measurements:\n",
    "        max_index = np.argmax(np.abs(measurements[ts]['data']), axis=1)\n",
    "        # get adjecent samples\n",
    "        \n",
    "        for i, max_i in enumerate(max_index):\n",
    "            measurements[ts]['max'] = mean_meas\n",
    "        "
   ]
  },
  {
   "cell_type": "code",
   "execution_count": null,
   "metadata": {},
   "outputs": [],
   "source": [
    "def group_row_data_by_functionalities(row, functionalities):\n",
    "    grouped_data = {}\n",
    "    averaged_data = np.zeros(1+np.max(list(map(int, functionalities))))\n",
    "    for i in np.unique(functionalities):\n",
    "        grouped_data[i] = {'values': []}\n",
    "        \n",
    "    for value, function in np.vstack((row,functionalities)).T:\n",
    "        grouped_data[function]['values'].append(value)\n",
    "        averaged_data[int(function)] = averaged_data[int(function)] + float(value)\n",
    "    \n",
    "    for i in np.unique(functionalities):\n",
    "        averaged_data[int(i)] = averaged_data[int(i)]/len(grouped_data[i]['values'])\n",
    "    \n",
    "    return grouped_data, averaged_data"
   ]
  },
  {
   "cell_type": "code",
   "execution_count": null,
   "metadata": {},
   "outputs": [],
   "source": [
    "#calculates the average over all functionality channels\n",
    "def calc_func_averages_by_measurement(meas_data, functionalities):\n",
    "    for ts in meas_data:\n",
    "        averages = None\n",
    "        for row in meas_data[ts]['data']:\n",
    "            if averages is None:\n",
    "                _, averages = group_row_data_by_functionalities(row, functionalities)\n",
    "            else:\n",
    "                _, tmp = group_row_data_by_functionalities(row, functionalities)\n",
    "                averages = np.vstack((averages, tmp))\n",
    "        \n",
    "        meas_data[ts]['func_avg'] = np.mean(averages, axis=0)\n",
    "    return meas_data"
   ]
  },
  {
   "cell_type": "code",
   "execution_count": null,
   "metadata": {},
   "outputs": [],
   "source": [
    "#calculates the average over all functionality channels\n",
    "def calc_func_averages_by_measurement_threaded(meas_data, functionalities):\n",
    "    for ts in meas_data:\n",
    "        averages = None\n",
    "        for row in meas_data[ts]['data']:\n",
    "            if averages is None:\n",
    "                _, averages =  Process(target=group_row_data_by_functionalities,args=(row, functionalities))\n",
    "            else:\n",
    "                _, tmp = Process(target=group_row_data_by_functionalities,args=(row, functionalities))\n",
    "                averages = np.vstack((averages, tmp))\n",
    "        \n",
    "        meas_data[ts]['func_avg'] = np.mean(averages, axis=0)\n",
    "    return meas_data"
   ]
  },
  {
   "cell_type": "code",
   "execution_count": null,
   "metadata": {},
   "outputs": [],
   "source": [
    "def pretty_print(data):\n",
    "    for ts in data:\n",
    "        print(ts,\":\",data[ts]['channels'],\";label:\",data[ts]['label'])"
   ]
  },
  {
   "cell_type": "code",
   "execution_count": null,
   "metadata": {},
   "outputs": [],
   "source": [
    "def pretty_print_meas(measurements, p):\n",
    "    for ts in measurements:\n",
    "        print(ts,\"; label:\", measurements[ts]['label'])\n",
    "        if 'avgs' in measurements[ts]:\n",
    "            print(\"channel averages:\", measurements[ts]['avgs'])   \n",
    "            \n",
    "        if 'func_avg' in measurements[ts]:\n",
    "            print(\"channel group averages:\", measurements[ts]['func_avg'])   \n",
    "            \n",
    "        #print(measurements[ts]['data'])\n",
    "        \n",
    "        "
   ]
  },
  {
   "cell_type": "code",
   "execution_count": null,
   "metadata": {},
   "outputs": [],
   "source": [
    "def pretty_draw_meas(measurements, functionalisations,show_all_channels=False):\n",
    "    colors = ['xkcd:green','xkcd:blue','xkcd:brown','xkcd:yellow','xkcd:black']\n",
    "    for ts in measurements:\n",
    "        plt.figure(figsize=(15,6))\n",
    "        if 'func_avg' in measurements[ts]:\n",
    "            plt.subplot(1,2,1)\n",
    "            groups = np.unique(functionalisations)\n",
    "            y_pos = np.arange(len(groups))\n",
    "            plt.bar(y_pos, measurements[ts]['func_avg']-1, align='center',color=colors, alpha=0.5)   \n",
    "            plt.xticks(y_pos, groups)\n",
    "            plt.title(\"Grouped Channels: {} at {}\".format(measurements[ts]['label'],ts))\n",
    "            \n",
    "        if show_all_channels and 'avgs' in measurements[ts]:\n",
    "            plt.subplot(1,2,2)\n",
    "            y_pos = np.arange(len(functionalisations))\n",
    "            barlist = plt.bar(y_pos, (measurements[ts]['avgs']-1)*100, align='center', alpha=0.5)\n",
    "            \n",
    "            for i in range(len(functionalisations)):\n",
    "                barlist[i].set_color(colors[int(functionalisations[i])])\n",
    "                #if failures[i]:\n",
    "                    #barlist[i].set_edgecolor('xkcd:red')\n",
    "            \n",
    "            plt.title(\"All Channels: {} at {}\".format(measurements[ts]['label'],ts))\n",
    "            \n",
    "        plt.show()\n",
    "            "
   ]
  },
  {
   "cell_type": "code",
   "execution_count": null,
   "metadata": {},
   "outputs": [],
   "source": [
    "def pretty_draw_direct_comp(measurements, functionalisations, failures=None, show_all_channels=False):\n",
    "    measurements_grouped_by_label = {}\n",
    "    colors = ['xkcd:green','xkcd:blue','xkcd:brown','xkcd:yellow','xkcd:black']\n",
    "\n",
    "    groups = np.unique(functionalisations)\n",
    "    y_pos = np.arange(len(groups))\n",
    "    \n",
    "    for ts in measurements:\n",
    "        if measurements[ts]['label'] not in measurements_grouped_by_label:\n",
    "            measurements_grouped_by_label[measurements[ts]['label']] = {}\n",
    "        measurements_grouped_by_label[measurements[ts]['label']][ts] = measurements[ts]\n",
    "        \n",
    "    for label in measurements_grouped_by_label:\n",
    "        fig, ax = plt.subplots()\n",
    "        count = 0\n",
    "        width = 1/len(measurements_grouped_by_label[label])\n",
    "        for ts in measurements_grouped_by_label[label]:\n",
    "            bar = ax.bar(y_pos + width*count, 100*(measurements_grouped_by_label[label][ts]['func_avg']-1),width,align='center',color=colors)\n",
    "            \n",
    "            for i in range(len(bar)):\n",
    "                bar[i].set_edgecolor('xkcd:white')\n",
    "            count += 1\n",
    "        ax.set_ylabel('R/R0')\n",
    "        ax.set_title(label)\n",
    "        ax.set_xticks([0,1,2,3,4])\n",
    "        plt.show()"
   ]
  },
  {
   "cell_type": "code",
   "execution_count": null,
   "metadata": {},
   "outputs": [],
   "source": [
    "functionalisations ,data = read_data_csv('data_wodka_orange_juice_red_wine_lemon_juice_coffee_garlic_10_loops_for_10.0_min_2020-01-03_11-08.csv');"
   ]
  },
  {
   "cell_type": "markdown",
   "metadata": {},
   "source": [
    "# Process data"
   ]
  },
  {
   "cell_type": "markdown",
   "metadata": {},
   "source": [
    "read in data from a specific file"
   ]
  },
  {
   "cell_type": "markdown",
   "metadata": {},
   "source": [
    "or all files from a from a directory"
   ]
  },
  {
   "cell_type": "code",
   "execution_count": null,
   "metadata": {},
   "outputs": [],
   "source": [
    "#sensorId, failures, functionalisations, base_levels, classes, data = read_all_files_in_folder('data')"
   ]
  },
  {
   "cell_type": "code",
   "execution_count": null,
   "metadata": {},
   "outputs": [],
   "source": [
    "data = standardize_measurements(data, len(functionalisations), debug=False)"
   ]
  },
  {
   "cell_type": "code",
   "execution_count": null,
   "metadata": {},
   "outputs": [],
   "source": [
    "measurements_labeled = get_labeled_measurements(data, debug=False)"
   ]
  },
  {
   "cell_type": "code",
   "execution_count": null,
   "metadata": {},
   "outputs": [],
   "source": [
    "measurements_avg = get_measurement_averages(measurements_labeled)"
   ]
  },
  {
   "cell_type": "code",
   "execution_count": null,
   "metadata": {},
   "outputs": [],
   "source": [
    "measurements_avgByMeas = calc_func_averages_by_measurement(measurements_avg, functionalisations)"
   ]
  },
  {
   "cell_type": "code",
   "execution_count": null,
   "metadata": {
    "scrolled": false
   },
   "outputs": [],
   "source": [
    "pretty_draw_meas(measurements_avgByMeas, functionalisations, show_all_channels=True)"
   ]
  },
  {
   "cell_type": "code",
   "execution_count": null,
   "metadata": {
    "scrolled": false
   },
   "outputs": [],
   "source": [
    "pretty_draw_direct_comp(measurements_avgByMeas, functionalisations)"
   ]
  },
  {
   "cell_type": "code",
   "execution_count": null,
   "metadata": {},
   "outputs": [],
   "source": [
    "labels = ['G1', 'G2', 'G3', 'G4', 'G5']\n",
    "men_means = [20, 34, 30, 35, 27]\n",
    "women_means = [25, 32, 34, 20, 25]\n",
    "\n",
    "x = np.arange(len(labels))  # the label locations\n",
    "width = 0.35  # the width of the bars\n",
    "\n",
    "fig, ax = plt.subplots()\n",
    "print(x - width/2)\n",
    "rects1 = ax.bar(x - width/2, men_means, width, label='Men')\n",
    "rects2 = ax.bar(x + width/2, women_means, width, label='Women')\n",
    "\n",
    "# Add some text for labels, title and custom x-axis tick labels, etc.\n",
    "ax.set_ylabel('Scores')\n",
    "ax.set_title('Scores by group and gender')\n",
    "ax.set_xticks(x)\n",
    "ax.set_xticklabels(labels)\n",
    "ax.legend()\n",
    "\n",
    "\n",
    "def autolabel(rects):\n",
    "    \"\"\"Attach a text label above each bar in *rects*, displaying its height.\"\"\"\n",
    "    for rect in rects:\n",
    "        height = rect.get_height()\n",
    "        ax.annotate('{}'.format(height),\n",
    "                    xy=(rect.get_x() + rect.get_width() / 2, height),\n",
    "                    xytext=(0, 3),  # 3 points vertical offset\n",
    "                    textcoords=\"offset points\",\n",
    "                    ha='center', va='bottom')\n",
    "\n",
    "\n",
    "autolabel(rects1)\n",
    "autolabel(rects2)\n",
    "\n",
    "fig.tight_layout()\n",
    "\n",
    "plt.show()"
   ]
  },
  {
   "cell_type": "markdown",
   "metadata": {},
   "source": [
    "# PCA"
   ]
  },
  {
   "cell_type": "code",
   "execution_count": null,
   "metadata": {},
   "outputs": [],
   "source": [
    "all_the_data_array = None\n",
    "all_variances = None\n",
    "\n",
    "count = 0\n",
    "\n",
    "for ts in measurements:\n",
    "    if all_the_data_array is None:\n",
    "        all_the_data_array = measurements[ts]['data']\n",
    "    else: \n",
    "        all_the_data_array = np.vstack((all_the_data_array, measurements[ts]['data']))\n",
    "        \n",
    "    #do PCA for every single measurement\n",
    "    pca_single = PCA(15)\n",
    "    pca_single.fit_transform(measurements[ts]['data'])\n",
    "    explained_variance = pca_single.explained_variance_ratio_\n",
    "    count += 1\n",
    "    if all_variances is None:\n",
    "        all_variances = explained_variance\n",
    "    else:\n",
    "        all_variances = np.vstack((all_variances, explained_variance))\n",
    "        \n",
    "\n",
    "var=np.cumsum(np.round(np.mean(all_variances,axis=0), decimals=3)*100)\n",
    "plt.ylabel('% Variance Explained')\n",
    "plt.xlabel('# of Features')\n",
    "\n",
    "plt.title('PCA Analysis')\n",
    "plt.ylim(70,100.5)\n",
    "\n",
    "plt.xticks(range(15))\n",
    "\n",
    "plt.plot(var, label='averaged')\n",
    "\n",
    "pca = PCA(15)\n",
    "pca.fit_transform(all_the_data_array)\n",
    "explained_variance = pca.explained_variance_ratio_\n",
    "\n",
    "var=np.cumsum(np.round(explained_variance, decimals=3)*100)\n",
    "plt.plot(var, label='all')\n",
    "for i in range(15):\n",
    "    plt.axvline(x=i, alpha=0.2, color=\"grey\")\n",
    "\n",
    "plt.legend()\n",
    "plt.show()"
   ]
  },
  {
   "cell_type": "code",
   "execution_count": null,
   "metadata": {},
   "outputs": [],
   "source": [
    "pca = PCA(3)\n",
    "pca.fit_transform(all_the_data_array)\n",
    "\n",
    "fig = plt.figure()\n",
    "ax = Axes3D(fig)\n",
    "\n",
    "measurements_grouped_by_label = {}\n",
    "colors = ['xkcd:green','xkcd:blue','xkcd:brown','xkcd:yellow','xkcd:black','xkcd:grey','xkcd:violet','xkcd:orange','xkcd:red']\n",
    "\n",
    "groups = np.unique(functionalisations)\n",
    "y_pos = np.arange(len(groups))\n",
    "\n",
    "for ts in measurements:\n",
    "    if measurements[ts]['label'] not in measurements_grouped_by_label:\n",
    "        measurements_grouped_by_label[measurements[ts]['label']] = {}\n",
    "    measurements_grouped_by_label[measurements[ts]['label']][ts] = measurements[ts]\n",
    "\n",
    "count = 0\n",
    "for label in measurements_grouped_by_label:\n",
    "    xs = []\n",
    "    ys = []\n",
    "    zs = []\n",
    "    \n",
    "    for ts in measurements_grouped_by_label[label]:\n",
    "        tmp = pca.transform(measurements_grouped_by_label[label][ts]['avgs'].reshape(1, -1))\n",
    "        x,y,z = tmp[0]\n",
    "        xs.append(x)\n",
    "        ys.append(y)\n",
    "        zs.append(z)\n",
    "    \n",
    "    ax.scatter(xs, ys, zs, color=colors[count], label=label)\n",
    "    count+=1\n",
    "    \n",
    "plt.legend()\n",
    "plt.show()\n",
    "      "
   ]
  },
  {
   "cell_type": "code",
   "execution_count": null,
   "metadata": {},
   "outputs": [],
   "source": [
    "pca = PCA(2)\n",
    "pca.fit_transform(all_the_data_array)\n",
    "\n",
    "fig, ax = plt.subplots()\n",
    "\n",
    "measurements_grouped_by_label = {}\n",
    "colors = ['xkcd:green','xkcd:blue','xkcd:brown','xkcd:yellow','xkcd:black','xkcd:grey','xkcd:violet','xkcd:orange','xkcd:red']\n",
    "\n",
    "groups = np.unique(functionalisations)\n",
    "y_pos = np.arange(len(groups))\n",
    "\n",
    "for ts in measurements:\n",
    "    if measurements[ts]['label'] not in measurements_grouped_by_label:\n",
    "        measurements_grouped_by_label[measurements[ts]['label']] = {}\n",
    "    measurements_grouped_by_label[measurements[ts]['label']][ts] = measurements[ts]\n",
    "\n",
    "count = 0\n",
    "for label in measurements_grouped_by_label:\n",
    "    xs = []\n",
    "    ys = []\n",
    "    \n",
    "    for ts in measurements_grouped_by_label[label]:\n",
    "        tmp = pca.transform(measurements_grouped_by_label[label][ts]['avgs'].reshape(1, -1))\n",
    "        x,y = tmp[0]\n",
    "        xs.append(x)\n",
    "        ys.append(y)\n",
    "    \n",
    "    ax.scatter(xs, ys, color=colors[count], label=label)\n",
    "    count+=1\n",
    "    \n",
    "plt.legend()\n",
    "plt.show()"
   ]
  },
  {
   "cell_type": "markdown",
   "metadata": {},
   "source": [
    "# tSNE"
   ]
  },
  {
   "cell_type": "code",
   "execution_count": null,
   "metadata": {},
   "outputs": [],
   "source": []
  }
 ],
 "metadata": {
  "kernelspec": {
   "display_name": "Python 3",
   "language": "python",
   "name": "python3"
  },
  "language_info": {
   "codemirror_mode": {
    "name": "ipython",
    "version": 3
   },
   "file_extension": ".py",
   "mimetype": "text/x-python",
   "name": "python",
   "nbconvert_exporter": "python",
   "pygments_lexer": "ipython3",
   "version": "3.7.4"
  }
 },
 "nbformat": 4,
 "nbformat_minor": 2
}
