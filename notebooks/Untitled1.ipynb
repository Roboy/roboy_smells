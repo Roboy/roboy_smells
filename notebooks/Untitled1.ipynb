{
 "cells": [
  {
   "cell_type": "code",
   "execution_count": 6,
   "metadata": {},
   "outputs": [],
   "source": [
    "import os, sys\n",
    "root_path = os.path.abspath(os.path.join('..'))\n",
    "if root_path not in sys.path:\n",
    "    sys.path.append(root_path)"
   ]
  },
  {
   "cell_type": "code",
   "execution_count": 75,
   "metadata": {},
   "outputs": [],
   "source": [
    "import classification.data_loading as cdl\n",
    "from sklearn.neighbors import KNeighborsClassifier\n",
    "from sklearn.neighbors import KNeighborsRegressor\n",
    "from sklearn.model_selection import LeaveOneOut\n",
    "from scipy.spatial.distance import mahalanobis\n",
    "import numpy as np\n",
    "from e_nose.measurements import DataType\n",
    "from numpy.random import randint"
   ]
  },
  {
   "cell_type": "code",
   "execution_count": 8,
   "metadata": {},
   "outputs": [
    {
     "name": "stdout",
     "output_type": "stream",
     "text": [
      "Reading file ../data/data_raisin_coffee_powder_orange_juice_red_wine_isopropanol_wodka_10_loops_for_5.0_min_referenceTime_5.0_min_2020-3-3_9_53_cleaned.csv\n",
      "using sensor 5 specification\n",
      "Reading file ../data/data_raisin_coffee_powder_orange_juice_red_wine_isopropanol_wodka_20_loops_for_5.0_min_referenceTime_5.0_min_2020-3-4_18_0_cleaned.csv\n",
      "using sensor 5 specification\n",
      "Reading file ../data/data_raisin_coffee_powder_orange_juice_red_wine_isopropanol_wodka_10_loops_for_5.0_min_referenceTime_5.0_min_2020-3-2_18_14_cleaned.csv\n",
      "using sensor 5 specification\n",
      "Reading file ../data/data_raisin_coffee_powder_orange_juice_red_wine_isopropanol_wodka_20_loops_for_5.0_min_referenceTime_5.0_min_2020-3-3_20_23_cleaned.csv\n",
      "using sensor 5 specification\n",
      "Reading file ../data/data_coffee_powder_orange_juice_isopropanol_raisin_red_Wine_wodka_10_loops_for_5.0_min_referenceTime_30.0_min_2020-2-28_7_57_cleaned.csv\n",
      "using sensor 5 specification\n",
      "Read 5 files\n",
      "length measurements:  317\n"
     ]
    }
   ],
   "source": [
    "measurements = cdl.get_measurements_from_dir(\"../data\")\n",
    "print(\"length measurements: \", len(measurements))"
   ]
  },
  {
   "cell_type": "code",
   "execution_count": 9,
   "metadata": {},
   "outputs": [],
   "source": [
    "training, test = cdl.train_test_split(measurements)\n",
    "training_X = []\n",
    "training_Y = []\n",
    "test_X = []\n",
    "test_Y = []"
   ]
  },
  {
   "cell_type": "code",
   "execution_count": 15,
   "metadata": {},
   "outputs": [],
   "source": [
    "for i, measurement in enumerate(test[100::]):\n",
    "    for x, tmp in enumerate(measurement.get_data_as(DataType.HIGH_PASS)):\n",
    "        test_X.append(tmp)\n",
    "        test_Y.append(measurement.label)\n",
    "\n",
    "for i, measurement in enumerate(training[100::]):\n",
    "    for x, tmp in enumerate(measurement.get_data_as(DataType.HIGH_PASS)):\n",
    "        training_X.append(tmp)\n",
    "        training_Y.append(measurement.label)"
   ]
  },
  {
   "cell_type": "code",
   "execution_count": null,
   "metadata": {},
   "outputs": [],
   "source": [
    "#cov_X = np.cov(training_X)"
   ]
  },
  {
   "cell_type": "code",
   "execution_count": 7,
   "metadata": {},
   "outputs": [],
   "source": [
    "#def mahalanobis(a, b):\n",
    "#    return mahalanobis(a, b, cov_X)"
   ]
  },
  {
   "cell_type": "code",
   "execution_count": 11,
   "metadata": {},
   "outputs": [],
   "source": [
    "def euk_distance(x,y):\n",
    "    return numpy.linalg.norm(x-y)"
   ]
  },
  {
   "cell_type": "code",
   "execution_count": 41,
   "metadata": {},
   "outputs": [
    {
     "name": "stdout",
     "output_type": "stream",
     "text": [
      "accuracy for  1  neighbours:  0.5136363636363637\n",
      "accuracy for  2  neighbours:  0.5136363636363637\n",
      "accuracy for  3  neighbours:  0.5148760330578512\n",
      "accuracy for  4  neighbours:  0.5161845730027548\n",
      "accuracy for  5  neighbours:  0.5207300275482094\n",
      "accuracy for  6  neighbours:  0.5243112947658403\n",
      "accuracy for  7  neighbours:  0.5243801652892562\n",
      "accuracy for  8  neighbours:  0.5263085399449036\n",
      "accuracy for  9  neighbours:  0.5269972451790633\n",
      "accuracy for  10  neighbours:  0.528374655647383\n",
      "accuracy for  11  neighbours:  0.5274793388429752\n",
      "accuracy for  12  neighbours:  0.528236914600551\n",
      "accuracy for  13  neighbours:  0.5292699724517906\n",
      "accuracy for  14  neighbours:  0.5301652892561983\n",
      "accuracy for  15  neighbours:  0.5308539944903581\n",
      "accuracy for  16  neighbours:  0.531404958677686\n",
      "accuracy for  17  neighbours:  0.5317493112947659\n",
      "accuracy for  18  neighbours:  0.5320936639118458\n",
      "accuracy for  19  neighbours:  0.5331955922865014\n",
      "accuracy for  20  neighbours:  0.5333333333333333\n"
     ]
    }
   ],
   "source": [
    "knn_models = None\n",
    "highest_acc = 0\n",
    "for i in range(1, 21):\n",
    "    fitting = KNeighborsClassifier(i,'distance',metric='minkowski',p=2,algorithm='auto')#euclidian distance\n",
    "    fitting.fit(training_X, training_Y)\n",
    "    score = fitting.score(test_X,test_Y)\n",
    "    if(score > highest_acc):\n",
    "        highest_acc=score\n",
    "        knn_models = fitting\n",
    "        \n",
    "    print(\"accuracy for \", i, \" neighbours: \",score)"
   ]
  },
  {
   "cell_type": "code",
   "execution_count": 49,
   "metadata": {},
   "outputs": [
    {
     "ename": "UFuncTypeError",
     "evalue": "ufunc 'multiply' did not contain a loop with signature matching types (dtype('<U32'), dtype('<U32')) -> dtype('<U32')",
     "output_type": "error",
     "traceback": [
      "\u001b[0;31m---------------------------------------------------------------------------\u001b[0m",
      "\u001b[0;31mUFuncTypeError\u001b[0m                            Traceback (most recent call last)",
      "\u001b[0;32m<ipython-input-49-3d231114532d>\u001b[0m in \u001b[0;36m<module>\u001b[0;34m\u001b[0m\n\u001b[1;32m      4\u001b[0m     \u001b[0mfitting\u001b[0m \u001b[0;34m=\u001b[0m \u001b[0mKNeighborsRegressor\u001b[0m\u001b[0;34m(\u001b[0m\u001b[0mi\u001b[0m\u001b[0;34m,\u001b[0m\u001b[0;34m'distance'\u001b[0m\u001b[0;34m,\u001b[0m\u001b[0mmetric\u001b[0m\u001b[0;34m=\u001b[0m\u001b[0;34m'minkowski'\u001b[0m\u001b[0;34m,\u001b[0m\u001b[0mp\u001b[0m\u001b[0;34m=\u001b[0m\u001b[0;36m2\u001b[0m\u001b[0;34m,\u001b[0m\u001b[0malgorithm\u001b[0m\u001b[0;34m=\u001b[0m\u001b[0;34m'auto'\u001b[0m\u001b[0;34m)\u001b[0m\u001b[0;31m#euclidian distance\u001b[0m\u001b[0;34m\u001b[0m\u001b[0;34m\u001b[0m\u001b[0m\n\u001b[1;32m      5\u001b[0m     \u001b[0mfitting\u001b[0m\u001b[0;34m.\u001b[0m\u001b[0mfit\u001b[0m\u001b[0;34m(\u001b[0m\u001b[0mtraining_X\u001b[0m\u001b[0;34m,\u001b[0m \u001b[0mtraining_Y\u001b[0m\u001b[0;34m)\u001b[0m\u001b[0;34m\u001b[0m\u001b[0;34m\u001b[0m\u001b[0m\n\u001b[0;32m----> 6\u001b[0;31m     \u001b[0mscore\u001b[0m \u001b[0;34m=\u001b[0m \u001b[0mfitting\u001b[0m\u001b[0;34m.\u001b[0m\u001b[0mscore\u001b[0m\u001b[0;34m(\u001b[0m\u001b[0mtest_X\u001b[0m\u001b[0;34m,\u001b[0m\u001b[0mtest_Y\u001b[0m\u001b[0;34m)\u001b[0m\u001b[0;34m\u001b[0m\u001b[0;34m\u001b[0m\u001b[0m\n\u001b[0m\u001b[1;32m      7\u001b[0m     \u001b[0;32mif\u001b[0m\u001b[0;34m(\u001b[0m\u001b[0mscore\u001b[0m \u001b[0;34m>\u001b[0m \u001b[0mhighest_regressor_acc\u001b[0m\u001b[0;34m)\u001b[0m\u001b[0;34m:\u001b[0m\u001b[0;34m\u001b[0m\u001b[0;34m\u001b[0m\u001b[0m\n\u001b[1;32m      8\u001b[0m         \u001b[0mhighest_regressor_acc\u001b[0m\u001b[0;34m=\u001b[0m\u001b[0mscore\u001b[0m\u001b[0;34m\u001b[0m\u001b[0;34m\u001b[0m\u001b[0m\n",
      "\u001b[0;32m~/opt/anaconda3/lib/python3.7/site-packages/sklearn/base.py\u001b[0m in \u001b[0;36mscore\u001b[0;34m(self, X, y, sample_weight)\u001b[0m\n\u001b[1;32m    420\u001b[0m         \u001b[0;32mfrom\u001b[0m \u001b[0;34m.\u001b[0m\u001b[0mmetrics\u001b[0m \u001b[0;32mimport\u001b[0m \u001b[0mr2_score\u001b[0m\u001b[0;34m\u001b[0m\u001b[0;34m\u001b[0m\u001b[0m\n\u001b[1;32m    421\u001b[0m         \u001b[0;32mfrom\u001b[0m \u001b[0;34m.\u001b[0m\u001b[0mmetrics\u001b[0m\u001b[0;34m.\u001b[0m\u001b[0m_regression\u001b[0m \u001b[0;32mimport\u001b[0m \u001b[0m_check_reg_targets\u001b[0m\u001b[0;34m\u001b[0m\u001b[0;34m\u001b[0m\u001b[0m\n\u001b[0;32m--> 422\u001b[0;31m         \u001b[0my_pred\u001b[0m \u001b[0;34m=\u001b[0m \u001b[0mself\u001b[0m\u001b[0;34m.\u001b[0m\u001b[0mpredict\u001b[0m\u001b[0;34m(\u001b[0m\u001b[0mX\u001b[0m\u001b[0;34m)\u001b[0m\u001b[0;34m\u001b[0m\u001b[0;34m\u001b[0m\u001b[0m\n\u001b[0m\u001b[1;32m    423\u001b[0m         \u001b[0;31m# XXX: Remove the check in 0.23\u001b[0m\u001b[0;34m\u001b[0m\u001b[0;34m\u001b[0m\u001b[0;34m\u001b[0m\u001b[0m\n\u001b[1;32m    424\u001b[0m         \u001b[0my_type\u001b[0m\u001b[0;34m,\u001b[0m \u001b[0m_\u001b[0m\u001b[0;34m,\u001b[0m \u001b[0m_\u001b[0m\u001b[0;34m,\u001b[0m \u001b[0m_\u001b[0m \u001b[0;34m=\u001b[0m \u001b[0m_check_reg_targets\u001b[0m\u001b[0;34m(\u001b[0m\u001b[0my\u001b[0m\u001b[0;34m,\u001b[0m \u001b[0my_pred\u001b[0m\u001b[0;34m,\u001b[0m \u001b[0;32mNone\u001b[0m\u001b[0;34m)\u001b[0m\u001b[0;34m\u001b[0m\u001b[0;34m\u001b[0m\u001b[0m\n",
      "\u001b[0;32m~/opt/anaconda3/lib/python3.7/site-packages/sklearn/neighbors/_regression.py\u001b[0m in \u001b[0;36mpredict\u001b[0;34m(self, X)\u001b[0m\n\u001b[1;32m    187\u001b[0m \u001b[0;34m\u001b[0m\u001b[0m\n\u001b[1;32m    188\u001b[0m             \u001b[0;32mfor\u001b[0m \u001b[0mj\u001b[0m \u001b[0;32min\u001b[0m \u001b[0mrange\u001b[0m\u001b[0;34m(\u001b[0m\u001b[0m_y\u001b[0m\u001b[0;34m.\u001b[0m\u001b[0mshape\u001b[0m\u001b[0;34m[\u001b[0m\u001b[0;36m1\u001b[0m\u001b[0;34m]\u001b[0m\u001b[0;34m)\u001b[0m\u001b[0;34m:\u001b[0m\u001b[0;34m\u001b[0m\u001b[0;34m\u001b[0m\u001b[0m\n\u001b[0;32m--> 189\u001b[0;31m                 \u001b[0mnum\u001b[0m \u001b[0;34m=\u001b[0m \u001b[0mnp\u001b[0m\u001b[0;34m.\u001b[0m\u001b[0msum\u001b[0m\u001b[0;34m(\u001b[0m\u001b[0m_y\u001b[0m\u001b[0;34m[\u001b[0m\u001b[0mneigh_ind\u001b[0m\u001b[0;34m,\u001b[0m \u001b[0mj\u001b[0m\u001b[0;34m]\u001b[0m \u001b[0;34m*\u001b[0m \u001b[0mweights\u001b[0m\u001b[0;34m,\u001b[0m \u001b[0maxis\u001b[0m\u001b[0;34m=\u001b[0m\u001b[0;36m1\u001b[0m\u001b[0;34m)\u001b[0m\u001b[0;34m\u001b[0m\u001b[0;34m\u001b[0m\u001b[0m\n\u001b[0m\u001b[1;32m    190\u001b[0m                 \u001b[0my_pred\u001b[0m\u001b[0;34m[\u001b[0m\u001b[0;34m:\u001b[0m\u001b[0;34m,\u001b[0m \u001b[0mj\u001b[0m\u001b[0;34m]\u001b[0m \u001b[0;34m=\u001b[0m \u001b[0mnum\u001b[0m \u001b[0;34m/\u001b[0m \u001b[0mdenom\u001b[0m\u001b[0;34m\u001b[0m\u001b[0;34m\u001b[0m\u001b[0m\n\u001b[1;32m    191\u001b[0m \u001b[0;34m\u001b[0m\u001b[0m\n",
      "\u001b[0;31mUFuncTypeError\u001b[0m: ufunc 'multiply' did not contain a loop with signature matching types (dtype('<U32'), dtype('<U32')) -> dtype('<U32')"
     ]
    }
   ],
   "source": [
    "knn_regressor_models = None\n",
    "highest_regressor_acc = 0\n",
    "for i in range(1, 21):\n",
    "    fitting = KNeighborsRegressor(i,'distance',metric='minkowski',p=2,algorithm='auto')#euclidian distance\n",
    "    fitting.fit(training_X, training_Y)\n",
    "    score = fitting.score(test_X,test_Y)\n",
    "    if(score > highest_regressor_acc):\n",
    "        highest_regressor_acc=score\n",
    "        knn_regressor_models = fitting\n",
    "        \n",
    "    print(\"accuracy for \", i, \" neighbours: \",score)"
   ]
  },
  {
   "cell_type": "code",
   "execution_count": 42,
   "metadata": {},
   "outputs": [],
   "source": [
    "from sklearn.externals import joblib\n",
    "filename = 'knn_classifier.joblib.pkl'\n",
    "_ = joblib.dump(knn_models, filename, compress=9)  "
   ]
  },
  {
   "cell_type": "code",
   "execution_count": 55,
   "metadata": {},
   "outputs": [],
   "source": [
    "fitting: KNeighborsClassifier = joblib.load(filename)"
   ]
  },
  {
   "cell_type": "code",
   "execution_count": 86,
   "metadata": {
    "scrolled": false
   },
   "outputs": [
    {
     "name": "stdout",
     "output_type": "stream",
     "text": [
      "225 : pred:  ['red_wine'] real:  orange_juice  per:  [[0. 0. 0. 0. 1. 0.]]\n",
      "4192 : pred:  ['coffee_powder'] real:  coffee_powder  per:  [[0.49965715 0.         0.04920774 0.45113511 0.         0.        ]]\n",
      "2819 : pred:  ['isopropanol'] real:  isopropanol  per:  [[0. 1. 0. 0. 0. 0.]]\n",
      "2540 : pred:  ['coffee_powder'] real:  coffee_powder  per:  [[0.89680035 0.         0.10319965 0.         0.         0.        ]]\n",
      "1722 : pred:  ['raisin'] real:  raisin  per:  [[0. 0. 0. 1. 0. 0.]]\n",
      "4540 : pred:  ['isopropanol'] real:  isopropanol  per:  [[0. 1. 0. 0. 0. 0.]]\n",
      "4399 : pred:  ['wodka'] real:  wodka  per:  [[0. 0. 0. 0. 0. 1.]]\n",
      "336 : pred:  ['raisin'] real:  raisin  per:  [[0.20065915 0.         0.09597705 0.55404322 0.14932058 0.        ]]\n",
      "13 : pred:  ['isopropanol'] real:  isopropanol  per:  [[0. 1. 0. 0. 0. 0.]]\n",
      "4097 : pred:  ['raisin'] real:  coffee_powder  per:  [[0.04898076 0.         0.         0.95101924 0.         0.        ]]\n",
      "1679 : pred:  ['raisin'] real:  raisin  per:  [[0. 0. 0. 1. 0. 0.]]\n",
      "880 : pred:  ['wodka'] real:  red_wine  per:  [[0. 0. 0. 0. 0. 1.]]\n",
      "2577 : pred:  ['wodka'] real:  red_wine  per:  [[0. 0. 0. 0. 0. 1.]]\n",
      "1394 : pred:  ['isopropanol'] real:  isopropanol  per:  [[0. 1. 0. 0. 0. 0.]]\n",
      "1465 : pred:  ['raisin'] real:  raisin  per:  [[0.04829893 0.         0.         0.95170107 0.         0.        ]]\n",
      "4877 : pred:  ['raisin'] real:  coffee_powder  per:  [[0.19955045 0.         0.         0.70217369 0.09827586 0.        ]]\n",
      "56 : pred:  ['isopropanol'] real:  isopropanol  per:  [[0. 1. 0. 0. 0. 0.]]\n",
      "3646 : pred:  ['wodka'] real:  red_wine  per:  [[0. 0. 0. 0. 0. 1.]]\n",
      "1824 : pred:  ['red_wine'] real:  red_wine  per:  [[0. 0. 0. 0. 1. 0.]]\n",
      "3756 : pred:  ['red_wine'] real:  orange_juice  per:  [[0. 0. 0. 0. 1. 0.]]\n",
      "4489 : pred:  ['isopropanol'] real:  isopropanol  per:  [[0. 1. 0. 0. 0. 0.]]\n",
      "4059 : pred:  ['raisin'] real:  coffee_powder  per:  [[0.04927997 0.         0.         0.95072003 0.         0.        ]]\n",
      "2471 : pred:  ['coffee_powder'] real:  coffee_powder  per:  [[0.74591795 0.         0.         0.         0.25408205 0.        ]]\n",
      "3605 : pred:  ['wodka'] real:  red_wine  per:  [[0. 0. 0. 0. 0. 1.]]\n",
      "4217 : pred:  ['raisin'] real:  coffee_powder  per:  [[0.24737016 0.         0.         0.40792784 0.344702   0.        ]]\n",
      "1055 : pred:  ['wodka'] real:  wodka  per:  [[0. 0. 0. 0. 0. 1.]]\n",
      "4264 : pred:  ['red_wine'] real:  coffee_powder  per:  [[0.         0.         0.         0.10777043 0.89222957 0.        ]]\n",
      "480 : pred:  ['raisin'] real:  red_wine  per:  [[0.21264406 0.         0.         0.78735594 0.         0.        ]]\n",
      "1018 : pred:  ['wodka'] real:  wodka  per:  [[0. 0. 0. 0. 0. 1.]]\n",
      "2038 : pred:  ['wodka'] real:  wodka  per:  [[0. 0. 0. 0. 0. 1.]]\n",
      "2469 : pred:  ['raisin'] real:  coffee_powder  per:  [[0.24833771 0.         0.09685921 0.34821638 0.3065867  0.        ]]\n",
      "1801 : pred:  ['red_wine'] real:  red_wine  per:  [[0. 0. 0. 0. 1. 0.]]\n",
      "1164 : pred:  ['wodka'] real:  wodka  per:  [[0. 0. 0. 0. 0. 1.]]\n",
      "2951 : pred:  ['raisin'] real:  raisin  per:  [[0. 0. 0. 1. 0. 0.]]\n",
      "2230 : pred:  ['wodka'] real:  red_wine  per:  [[0. 0. 0. 0. 0. 1.]]\n",
      "218 : pred:  ['red_wine'] real:  orange_juice  per:  [[0. 0. 0. 0. 1. 0.]]\n",
      "4208 : pred:  ['raisin'] real:  coffee_powder  per:  [[0.24705352 0.         0.20269442 0.55025207 0.         0.        ]]\n",
      "3533 : pred:  ['wodka'] real:  red_wine  per:  [[0. 0. 0. 0. 0. 1.]]\n",
      "3955 : pred:  ['red_wine'] real:  orange_juice  per:  [[0. 0. 0. 0. 1. 0.]]\n",
      "3626 : pred:  ['wodka'] real:  red_wine  per:  [[0. 0. 0. 0. 0. 1.]]\n",
      "4302 : pred:  ['red_wine'] real:  coffee_powder  per:  [[0.         0.         0.25382485 0.         0.74617515 0.        ]]\n",
      "408 : pred:  ['raisin'] real:  raisin  per:  [[0. 0. 0. 1. 0. 0.]]\n",
      "4262 : pred:  ['coffee_powder'] real:  coffee_powder  per:  [[0.60347735 0.         0.0974698  0.         0.29905285 0.        ]]\n",
      "4736 : pred:  ['raisin'] real:  raisin  per:  [[0.20316659 0.         0.         0.69968121 0.0971522  0.        ]]\n",
      "4053 : pred:  ['raisin'] real:  coffee_powder  per:  [[0.04862548 0.         0.         0.90215027 0.04922425 0.        ]]\n",
      "2310 : pred:  ['wodka'] real:  wodka  per:  [[0. 0. 0. 0. 0. 1.]]\n",
      "3896 : pred:  ['red_wine'] real:  orange_juice  per:  [[0. 0. 0. 0. 1. 0.]]\n",
      "4123 : pred:  ['raisin'] real:  coffee_powder  per:  [[0.45079645 0.         0.         0.49854196 0.05066159 0.        ]]\n",
      "4781 : pred:  ['raisin'] real:  raisin  per:  [[0.09961228 0.         0.         0.8519182  0.04846953 0.        ]]\n",
      "3755 : pred:  ['red_wine'] real:  orange_juice  per:  [[0. 0. 0. 0. 1. 0.]]\n"
     ]
    }
   ],
   "source": [
    "for i in randint(0,5000,50):\n",
    "    pred_per = fitting.predict_proba([test_X[i]])\n",
    "    pred = fitting.predict([test_X[i]])\n",
    "    print(i,': pred: ',pred,'real: ',test_Y[i],' per: ',pred_per)"
   ]
  }
 ],
 "metadata": {
  "kernelspec": {
   "display_name": "Python 3",
   "language": "python",
   "name": "python3"
  },
  "language_info": {
   "codemirror_mode": {
    "name": "ipython",
    "version": 3
   },
   "file_extension": ".py",
   "mimetype": "text/x-python",
   "name": "python",
   "nbconvert_exporter": "python",
   "pygments_lexer": "ipython3",
   "version": "3.7.6"
  }
 },
 "nbformat": 4,
 "nbformat_minor": 4
}
