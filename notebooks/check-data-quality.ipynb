{
 "cells": [
  {
   "cell_type": "code",
   "execution_count": null,
   "metadata": {},
   "outputs": [],
   "source": [
    "import os, sys\n",
    "root_path = os.path.abspath(os.path.join('..'))\n",
    "if root_path not in sys.path:\n",
    "    sys.path.append(root_path)"
   ]
  },
  {
   "cell_type": "code",
   "execution_count": null,
   "metadata": {},
   "outputs": [],
   "source": [
    "import numpy as np\n",
    "from e_nose import file_reader \n",
    "from e_nose import data_processing as dp\n",
    "from e_nose import data_visualization\n",
    "from e_nose.measurements import Measurement, StandardizationType\n",
    "\n",
    "%reload_ext autoreload\n",
    "%autoreload 2"
   ]
  },
  {
   "cell_type": "markdown",
   "metadata": {},
   "source": [
    "# Process data"
   ]
  },
  {
   "cell_type": "markdown",
   "metadata": {},
   "source": [
    "read in data from a specific folder"
   ]
  },
  {
   "cell_type": "code",
   "execution_count": null,
   "metadata": {},
   "outputs": [],
   "source": [
    "data_tuple = file_reader.read_all_files_in_folder('../../../data/newgen-test/NewGeneration/for_training')\n",
    "#data_tuple = dp.remove_broken_channels_multi_files(data_tuple)\n",
    "functionalisations, working_channels, all_data = data_tuple"
   ]
  },
  {
   "cell_type": "code",
   "execution_count": null,
   "metadata": {
    "scrolled": false
   },
   "outputs": [],
   "source": [
    "data_visualization.draw_all_channel_data_as_line(all_data, functionalisations, 0, -1, secondary='temperature')"
   ]
  },
  {
   "cell_type": "code",
   "execution_count": null,
   "metadata": {},
   "outputs": [],
   "source": [
    "working_channels = dp.find_broken_channels_multi_files(functionalisations, all_data)"
   ]
  },
  {
   "cell_type": "code",
   "execution_count": null,
   "metadata": {},
   "outputs": [],
   "source": [
    "# Find broken Channels\n",
    "possibly_broken = np.zeros((len(functionalisations)), bool)\n",
    "\n",
    "for file in all_data:\n",
    "    print(file)\n",
    "    data = all_data[file]\n",
    "    num_channels = len(functionalisations)\n",
    "\n",
    "    # reconfigure data so that channels are in one array\n",
    "    data_matrix = np.zeros((len(data), num_channels))\n",
    "\n",
    "    for i, time in enumerate(data):\n",
    "        channel_data = data[time]['channels']\n",
    "        data_matrix[i, :] = channel_data\n",
    "    \n",
    "    minVals = np.min(data_matrix, axis=0)\n",
    "    brokens = np.where(minVals < 350)[0]\n",
    "    print(brokens.shape[0])\n",
    "    print(brokens)\n",
    "    possibly_broken[brokens] = True"
   ]
  },
  {
   "cell_type": "code",
   "execution_count": null,
   "metadata": {},
   "outputs": [],
   "source": [
    "print(len(np.where(possibly_broken)[0]))\n",
    "np.where(possibly_broken)[0]\n"
   ]
  },
  {
   "cell_type": "code",
   "execution_count": null,
   "metadata": {
    "scrolled": false
   },
   "outputs": [],
   "source": [
    "channels = np.where(possibly_broken)[0]\n",
    "\n",
    "data_visualization.draw_selected_channel_data_as_line(all_data, functionalisations, channels, 0, -1, secondary='pressure')"
   ]
  }
 ],
 "metadata": {
  "kernelspec": {
   "display_name": "Python 3",
   "language": "python",
   "name": "python3"
  },
  "language_info": {
   "codemirror_mode": {
    "name": "ipython",
    "version": 3
   },
   "file_extension": ".py",
   "mimetype": "text/x-python",
   "name": "python",
   "nbconvert_exporter": "python",
   "pygments_lexer": "ipython3",
   "version": "3.8.1"
  }
 },
 "nbformat": 4,
 "nbformat_minor": 2
}
