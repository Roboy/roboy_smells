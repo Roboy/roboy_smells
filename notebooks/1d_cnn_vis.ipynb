{
 "cells": [
  {
   "cell_type": "code",
   "execution_count": 1,
   "metadata": {},
   "outputs": [],
   "source": [
    "%matplotlib inline\n",
    "%reload_ext autoreload\n",
    "%autoreload 2\n",
    "import os, sys\n",
    "root_path = os.path.abspath(os.path.join('..'))\n",
    "if root_path not in sys.path:\n",
    "    sys.path.append(root_path)\n"
   ]
  },
  {
   "cell_type": "code",
   "execution_count": 2,
   "metadata": {},
   "outputs": [],
   "source": [
    "os.environ['KMP_DUPLICATE_LIB_OK']='True'"
   ]
  },
  {
   "cell_type": "code",
   "execution_count": 3,
   "metadata": {},
   "outputs": [],
   "source": [
    "from __future__ import absolute_import, division, print_function, unicode_literals\n",
    "import tensorflow as tf\n",
    "import numpy as np\n",
    "from sklearn.decomposition import PCA"
   ]
  },
  {
   "cell_type": "code",
   "execution_count": 4,
   "metadata": {},
   "outputs": [],
   "source": [
    "from tensorflow.keras.layers import Dense, Flatten, Conv1D\n",
    "from tensorflow.keras import Model\n",
    "from tensorflow.keras import layers"
   ]
  },
  {
   "cell_type": "code",
   "execution_count": 5,
   "metadata": {},
   "outputs": [],
   "source": [
    "import e_nose.data_visualization as dv"
   ]
  },
  {
   "cell_type": "code",
   "execution_count": 6,
   "metadata": {},
   "outputs": [],
   "source": [
    "import os\n",
    "from pathlib import Path\n",
    "import numpy as np\n",
    "from e_nose import file_reader\n",
    "from e_nose import data_processing as dp\n",
    "\n",
    "from e_nose.measurements import DataType"
   ]
  },
  {
   "cell_type": "code",
   "execution_count": 8,
   "metadata": {},
   "outputs": [],
   "source": [
    "import classification.data_loading as dl"
   ]
  },
  {
   "cell_type": "code",
   "execution_count": 7,
   "metadata": {},
   "outputs": [
    {
     "data": {
      "text/plain": [
       "'/Users/valentinstarlinger/Documents/Uni/RCI/3_Semester/Roboy/catkin_ws/src/roboy_smells/notebooks'"
      ]
     },
     "execution_count": 7,
     "metadata": {},
     "output_type": "execute_result"
    }
   ],
   "source": [
    "os.getcwd()"
   ]
  },
  {
   "cell_type": "code",
   "execution_count": 10,
   "metadata": {},
   "outputs": [
    {
     "name": "stdout",
     "output_type": "stream",
     "text": [
      "Reading file ../data/data_apple_juice_coffee_powder_red_Wine_wodka_orange_juice_raisin_8_loops_for_5.0_min_referenceTime_30.0_min_2020-2-18_7_14.csv\n",
      "using sensor 5 specification\n",
      "Reading file ../data/data_isopropanol_raisin_apple_juice_wodka_coffee_powder_red_Wine_2_loops_for_5.0_min_referenceTime_30.0_min_2020-2-15_13_24.csv\n",
      "using sensor 5 specification\n",
      "Reading file ../data/data_coffee_powder_orange_juice_isopropanol_raisin_red_Wine_wodka_10_loops_for_5.0_min_referenceTime_30.0_min_2020-2-28_7_57.csv\n",
      "using sensor 5 specification\n",
      "Reading file ../data/data_apple_juice_coffee_powder_red_Wine_wodka_orange_juice_raisin_3_loops_for_5.0_min_referenceTime_30.0_min_2020-2-19_8_8.csv\n",
      "using sensor 5 specification\n",
      "Reading file ../data/data_isopropanol_raisin_apple_juice_wodka_coffee_powder_red_Wine_5_loops_for_5.0_min_referenceTime_30.0_min_2020-2-15_23_37.csv\n",
      "using sensor 5 specification\n",
      "Reading file ../data/data_apple_juice_coffee_powder_red_Wine_wodka_orange_juice_raisin_8_loops_for_5.0_min_referenceTime_30.0_min_2020-2-17_22_33.csv\n",
      "using sensor 5 specification\n",
      "Read 6 files\n",
      "10\n"
     ]
    }
   ],
   "source": [
    "measurements = dl.get_measurements_from_dir('../data')\n",
    "ms_train, ms_val = dl.train_test_split(measurements, 0.7)"
   ]
  },
  {
   "cell_type": "code",
   "execution_count": 13,
   "metadata": {},
   "outputs": [],
   "source": [
    "def create_labels_with_data(meas):\n",
    "    #create sets for visualisation\n",
    "    labels_with_data = {}\n",
    "    for ms in meas:\n",
    "        if ms.label not in labels_with_data:\n",
    "            labels_with_data[ms.label] = np.expand_dims(ms.get_data()[:64], axis=0)\n",
    "        else:\n",
    "            labels_with_data[ms.label] = np.vstack((labels_with_data[ms.label], np.expand_dims(ms.get_data()[:64], axis=0)))\n",
    "    return labels_with_data\n"
   ]
  },
  {
   "cell_type": "code",
   "execution_count": 14,
   "metadata": {},
   "outputs": [],
   "source": [
    "lwd_train = create_labels_with_data(ms_train)"
   ]
  },
  {
   "cell_type": "code",
   "execution_count": 15,
   "metadata": {},
   "outputs": [],
   "source": [
    "lwd_val = create_labels_with_data(ms_val)"
   ]
  },
  {
   "cell_type": "code",
   "execution_count": 16,
   "metadata": {},
   "outputs": [],
   "source": [
    "class RecurrentLayer(layers.Layer):\n",
    "    def __init__(self, dilation_rate=1, filter_size=64):\n",
    "        super(RecurrentLayer, self).__init__()\n",
    "        self.sigm_out = Conv1D(filter_size, 2, dilation_rate=2**dilation_rate, padding='causal', activation='sigmoid')\n",
    "        self.tanh_out = Conv1D(filter_size, 2, dilation_rate=2**dilation_rate, padding='causal', activation='tanh')\n",
    "        self.same_out = Conv1D(filter_size,1,padding='same')\n",
    "\n",
    "    def call(self, x):\n",
    "        original_x = x\n",
    "\n",
    "        x_t = self.tanh_out(x)\n",
    "        x_s = self.sigm_out(x)\n",
    "\n",
    "        x = layers.Multiply()([x_t,x_s])\n",
    "        x = self.same_out(x)\n",
    "        x_skips = x\n",
    "        x = layers.Add()([original_x, x])\n",
    "\n",
    "        return x_skips, x\n",
    "            \n",
    "class Model1DCNN(tf.keras.Model):\n",
    "    def __init__(self, dilations=3, filter_size=64, input_shape=(64, 49)):\n",
    "        super(Model1DCNN, self).__init__()\n",
    "\n",
    "        self.residual = []\n",
    "        self.dilations = dilations\n",
    "        self.causal = tf.keras.layers.Conv1D(filter_size, 2, padding='causal', input_shape=input_shape)\n",
    "\n",
    "        for i in range(1, dilations + 1):\n",
    "            self.residual.append(RecurrentLayer(dilation_rate=i, filter_size=filter_size))\n",
    "\n",
    "        self.same_out_1 = tf.keras.layers.Conv1D(filter_size, 1, padding='same', activation='relu')\n",
    "        self.same_out_2 = tf.keras.layers.Conv1D(8, 1, padding='same', activation='relu')\n",
    "\n",
    "        self.d1 = tf.keras.layers.Dense(400, activation='relu')\n",
    "        self.d2 = tf.keras.layers.Dense(200, activation='relu')\n",
    "        self.d3 = tf.keras.layers.Dense(20)\n",
    "\n",
    "    def call(self, x):\n",
    "        x_skips = []\n",
    "\n",
    "        x = self.causal(x)\n",
    "        for i in range(self.dilations):\n",
    "            x_skip, x = self.residual[i](x)\n",
    "            x_skips.append(x_skip)\n",
    "\n",
    "        x = tf.keras.layers.Add()(x_skips)\n",
    "        x = self.same_out_1(x)\n",
    "        x = self.same_out_2(x)\n",
    "        x = tf.keras.layers.Flatten()(x)\n",
    "        x = self.d1(x)\n",
    "        x = self.d2(x)\n",
    "        return self.d3(x)"
   ]
  },
  {
   "cell_type": "code",
   "execution_count": 17,
   "metadata": {},
   "outputs": [],
   "source": [
    "batch_size = 90"
   ]
  },
  {
   "cell_type": "code",
   "execution_count": 18,
   "metadata": {},
   "outputs": [],
   "source": [
    "def triplet_loss(self, feats):\n",
    "        m = 0.01\n",
    "\n",
    "        diff_pos= feats[0:batch_size:3] - feats[1:batch_size:3]\n",
    "        diff_pos_sq = tf.math.reduce_sum(diff_pos**2, axis=1)\n",
    "        diff_neg= feats[0:batch_size:3] - feats[2:batch_size:3]\n",
    "        diff_neg_sq = tf.math.reduce_sum(diff_neg**2, axis=1)\n",
    "\n",
    "        L_triplet = tf.math.reduce_sum(tf.math.maximum(0.0, 1 - diff_neg_sq/(diff_pos_sq + m)))\n",
    "\n",
    "        L_pair = tf.math.reduce_sum(diff_pos_sq)\n",
    "        return L_triplet + L_pair"
   ]
  },
  {
   "cell_type": "code",
   "execution_count": 26,
   "metadata": {},
   "outputs": [
    {
     "data": {
      "text/plain": [
       "<tensorflow.python.training.tracking.util.CheckpointLoadStatus at 0x1a3a2671d0>"
      ]
     },
     "execution_count": 26,
     "metadata": {},
     "output_type": "execute_result"
    }
   ],
   "source": [
    "model = Model1DCNN()\n",
    "model.compile(optimizer='adam',loss=triplet_loss)\n",
    "model.train_on_batch(lwd_train['apple_juice'][:1], lwd_train['apple_juice'][:1])\n",
    "model.load_weights('/Users/valentinstarlinger/ray_results/cnn_wavenet_roboy/CNNTrainable_202f38b6_0_filter_size=64,lr=0.00044002,num_dilations=3_2020-03-02_20-15-06oirbobht/checkpoint_20/model_weights')"
   ]
  },
  {
   "cell_type": "code",
   "execution_count": 27,
   "metadata": {},
   "outputs": [],
   "source": [
    "%matplotlib inline\n",
    "import matplotlib.pyplot as plt\n",
    "import numpy as np"
   ]
  },
  {
   "cell_type": "code",
   "execution_count": 28,
   "metadata": {},
   "outputs": [
    {
     "name": "stdout",
     "output_type": "stream",
     "text": [
      "(142, 20)\n"
     ]
    }
   ],
   "source": [
    "all_the_data_array = np.zeros((0,20))\n",
    "for i, label in enumerate(lwd_train.keys()):\n",
    "    prediction = model.predict(lwd_train[label])\n",
    "    all_the_data_array = np.vstack((all_the_data_array, prediction))\n",
    "    \n",
    "for i, label in enumerate(lwd_val.keys()):\n",
    "    prediction = model.predict(lwd_val[label])\n",
    "    all_the_data_array = np.vstack((all_the_data_array, prediction))\n",
    "    \n",
    "print(all_the_data_array.shape)"
   ]
  },
  {
   "cell_type": "code",
   "execution_count": 29,
   "metadata": {},
   "outputs": [
    {
     "data": {
      "image/png": "[encoded data removed]",
      "text/plain": [
       "<Figure size 432x288 with 1 Axes>"
      ]
     },
     "metadata": {
      "needs_background": "light"
     },
     "output_type": "display_data"
    }
   ],
   "source": [
    "pca = PCA(15)\n",
    "pca.fit_transform(all_the_data_array)\n",
    "\n",
    "explained_variance = pca.explained_variance_ratio_\n",
    "\n",
    "var=np.cumsum(np.round(explained_variance, decimals=3)*100)\n",
    "plt.plot(var, label='all')\n",
    "for i in range(15):\n",
    "    plt.axvline(x=i, alpha=0.2, color=\"grey\")\n",
    "\n",
    "plt.legend()\n",
    "plt.show()"
   ]
  },
  {
   "cell_type": "code",
   "execution_count": null,
   "metadata": {},
   "outputs": [],
   "source": []
  },
  {
   "cell_type": "code",
   "execution_count": 30,
   "metadata": {},
   "outputs": [
    {
     "name": "stdout",
     "output_type": "stream",
     "text": [
      "wodka xkcd:red\n",
      "coffee_powder xkcd:blue\n",
      "isopropanol xkcd:green\n",
      "orange_juice xkcd:orange\n",
      "raisin xkcd:grey\n",
      "red_Wine xkcd:black\n",
      "apple_juice xkcd:purple\n"
     ]
    },
    {
     "data": {
      "image/png": "[encoded data removed]",
      "text/plain": [
       "<Figure size 432x288 with 1 Axes>"
      ]
     },
     "metadata": {
      "needs_background": "light"
     },
     "output_type": "display_data"
    }
   ],
   "source": [
    "colors = ['xkcd:red','xkcd:blue','xkcd:green','xkcd:orange','xkcd:grey','xkcd:black','xkcd:purple']\n",
    "\n",
    "for i, label in enumerate(lwd_train.keys()):\n",
    "    prediction = model.predict(lwd_train[label])\n",
    "    print(label,colors[i])\n",
    "    for pred in prediction:\n",
    "        pred = pca.transform(pred.reshape(1, -1))\n",
    "        plt.plot(pred[0][0], pred[0][1], '.', label=label, color=colors[i])\n",
    "        \n",
    "for i, label in enumerate(lwd_train.keys()):\n",
    "    if label not in lwd_val:\n",
    "        continue\n",
    "    prediction = model.predict(lwd_val[label])\n",
    "    for pred in prediction:\n",
    "        pred = pca.transform(pred.reshape(1, -1))\n",
    "        plt.plot(pred[0][0], pred[0][1], 'd', label=label, color=colors[i])\n",
    "plt.show()"
   ]
  },
  {
   "cell_type": "code",
   "execution_count": null,
   "metadata": {},
   "outputs": [],
   "source": []
  },
  {
   "cell_type": "code",
   "execution_count": null,
   "metadata": {},
   "outputs": [],
   "source": []
  },
  {
   "cell_type": "code",
   "execution_count": null,
   "metadata": {},
   "outputs": [],
   "source": []
  },
  {
   "cell_type": "code",
   "execution_count": null,
   "metadata": {},
   "outputs": [],
   "source": []
  }
 ],
 "metadata": {
  "kernelspec": {
   "display_name": "Python 3",
   "language": "python",
   "name": "python3"
  },
  "language_info": {
   "codemirror_mode": {
    "name": "ipython",
    "version": 3
   },
   "file_extension": ".py",
   "mimetype": "text/x-python",
   "name": "python",
   "nbconvert_exporter": "python",
   "pygments_lexer": "ipython3",
   "version": "3.7.6"
  }
 },
 "nbformat": 4,
 "nbformat_minor": 2
}
