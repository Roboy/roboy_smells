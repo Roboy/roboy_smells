{
 "cells": [
  {
   "cell_type": "code",
   "execution_count": 1,
   "metadata": {},
   "outputs": [],
   "source": [
    "import os, sys\n",
    "root_path = os.path.abspath(os.path.join('..'))\n",
    "if root_path not in sys.path:\n",
    "    sys.path.append(root_path)"
   ]
  },
  {
   "cell_type": "code",
   "execution_count": 2,
   "metadata": {},
   "outputs": [],
   "source": [
    "from e_nose import file_reader \n",
    "from e_nose import data_processing as dp\n",
    "from e_nose import data_visualization\n",
    "from e_nose.measurements import Measurement\n",
    "from e_nose.onlineReader import OnlineReader\n",
    "import numpy as np\n",
    "\n",
    "%reload_ext autoreload\n",
    "%autoreload 2"
   ]
  },
  {
   "cell_type": "code",
   "execution_count": 3,
   "metadata": {},
   "outputs": [
    {
     "name": "stdout",
     "output_type": "stream",
     "text": [
      "using sensor 5 specification\n"
     ]
    }
   ],
   "source": [
    "reader = OnlineReader(5)\n",
    "i = 1"
   ]
  },
  {
   "cell_type": "code",
   "execution_count": 16,
   "metadata": {},
   "outputs": [],
   "source": [
    "reader.add_sample(np.array([\n",
    "    i,421,265,312,632,123,642,123,543,654,132,334,434,874,234,876,\n",
    "    123,421,265,312,632,123,642,123,543,654,132,334,434,874,234,876,\n",
    "    123,421,265,312,632,123,642,123,543,654,132,334,434,874,234,876,\n",
    "    123,421,265,312,632,123,642,123,543,654,132,334,434,874,234,876,\n",
    "]))\n",
    "i+=1"
   ]
  },
  {
   "cell_type": "code",
   "execution_count": 17,
   "metadata": {},
   "outputs": [
    {
     "data": {
      "text/plain": [
       "array([0.01742103, 6.04263283, 5.57972983, 5.74300319, 6.44888939,\n",
       "       4.81218436, 6.4645883 , 4.81218436, 6.29710932, 6.48310735,\n",
       "       4.88280192, 5.81114099, 6.07304453, 6.77308038, 5.45532112,\n",
       "       6.77536609, 4.81218436, 6.04263283, 5.57972983, 5.74300319,\n",
       "       6.44888939, 4.81218436, 6.4645883 , 4.81218436, 6.29710932,\n",
       "       6.48310735, 4.88280192, 5.81114099, 6.07304453, 6.77308038,\n",
       "       5.45532112, 6.77536609, 4.81218436, 6.04263283, 5.57972983,\n",
       "       5.74300319, 6.44888939, 4.81218436, 6.4645883 , 4.81218436,\n",
       "       6.29710932, 6.48310735, 4.88280192, 5.81114099, 6.07304453,\n",
       "       6.77308038, 5.45532112, 6.77536609, 4.81218436, 6.04263283,\n",
       "       5.57972983, 5.74300319, 6.44888939, 4.81218436, 6.4645883 ,\n",
       "       4.81218436, 6.29710932, 6.48310735, 4.88280192, 5.81114099,\n",
       "       6.07304453, 6.77308038, 5.45532112, 6.77536609])"
      ]
     },
     "execution_count": 17,
     "metadata": {},
     "output_type": "execute_result"
    }
   ],
   "source": [
    "reader.log_lowpass_current"
   ]
  },
  {
   "cell_type": "code",
   "execution_count": 18,
   "metadata": {},
   "outputs": [
    {
     "data": {
      "text/plain": [
       "array([0.01275301, 6.04263283, 5.57972983, 5.74300319, 6.44888939,\n",
       "       4.81218436, 6.4645883 , 4.81218436, 6.29710932, 6.48310735,\n",
       "       4.88280192, 5.81114099, 6.07304453, 6.77308038, 5.45532112,\n",
       "       6.77536609, 4.81218436, 6.04263283, 5.57972983, 5.74300319,\n",
       "       6.44888939, 4.81218436, 6.4645883 , 4.81218436, 6.29710932,\n",
       "       6.48310735, 4.88280192, 5.81114099, 6.07304453, 6.77308038,\n",
       "       5.45532112, 6.77536609, 4.81218436, 6.04263283, 5.57972983,\n",
       "       5.74300319, 6.44888939, 4.81218436, 6.4645883 , 4.81218436,\n",
       "       6.29710932, 6.48310735, 4.88280192, 5.81114099, 6.07304453,\n",
       "       6.77308038, 5.45532112, 6.77536609, 4.81218436, 6.04263283,\n",
       "       5.57972983, 5.74300319, 6.44888939, 4.81218436, 6.4645883 ,\n",
       "       4.81218436, 6.29710932, 6.48310735, 4.88280192, 5.81114099,\n",
       "       6.07304453, 6.77308038, 5.45532112, 6.77536609])"
      ]
     },
     "execution_count": 18,
     "metadata": {},
     "output_type": "execute_result"
    }
   ],
   "source": [
    "reader.get_last_n_as_measurement(3).reference_measurement"
   ]
  }
 ],
 "metadata": {
  "kernelspec": {
   "display_name": "Python 3",
   "language": "python",
   "name": "python3"
  },
  "language_info": {
   "codemirror_mode": {
    "name": "ipython",
    "version": 3
   },
   "file_extension": ".py",
   "mimetype": "text/x-python",
   "name": "python",
   "nbconvert_exporter": "python",
   "pygments_lexer": "ipython3",
   "version": "3.8.1"
  }
 },
 "nbformat": 4,
 "nbformat_minor": 2
}
