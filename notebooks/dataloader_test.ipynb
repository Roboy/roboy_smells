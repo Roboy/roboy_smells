{
 "cells": [
  {
   "cell_type": "code",
   "execution_count": 1,
   "metadata": {},
   "outputs": [],
   "source": [
    "import os, sys\n",
    "root_path = os.path.abspath(os.path.join('..'))\n",
    "if root_path not in sys.path:\n",
    "    sys.path.append(root_path)"
   ]
  },
  {
   "cell_type": "code",
   "execution_count": 10,
   "metadata": {},
   "outputs": [],
   "source": [
    "from e_nose import file_reader \n",
    "from e_nose import data_processing as dp\n",
    "from e_nose import data_visualization\n",
    "from e_nose.measurements import Measurement, StandardizationType\n",
    "\n",
    "%reload_ext autoreload\n",
    "%autoreload 2"
   ]
  },
  {
   "cell_type": "code",
   "execution_count": 3,
   "metadata": {},
   "outputs": [
    {
     "name": "stdout",
     "output_type": "stream",
     "text": [
      "Reading file ../../../data/newgen-test/NewGeneration/data_apple_juice_coffee_powder_red_Wine_wodka_orange_juice_raisin_3_loops_for_5.0_min_referenceTime_30.0_min_2020-2-19_8_8.csv\n",
      "using sensor 5 specification\n",
      "Reading file ../../../data/newgen-test/NewGeneration/data_apple_juice_coffee_powder_red_Wine_wodka_orange_juice_raisin_8_loops_for_5.0_min_referenceTime_30.0_min_2020-2-17_22_33.csv\n",
      "using sensor 5 specification\n",
      "Reading file ../../../data/newgen-test/NewGeneration/data_apple_juice_coffee_powder_red_Wine_wodka_orange_juice_raisin_8_loops_for_5.0_min_referenceTime_30.0_min_2020-2-18_7_14.csv\n",
      "using sensor 5 specification\n",
      "Reading file ../../../data/newgen-test/NewGeneration/data_coffee_powder_orange_juice_isopropanol_raisin_red_Wine_wodka_10_loops_for_5.0_min_referenceTime_30.0_min_2020-2-28_7_57.csv\n",
      "using sensor 5 specification\n",
      "Reading file ../../../data/newgen-test/NewGeneration/data_isopropanol_raisin_apple_juice_wodka_coffee_powder_red_Wine_2_loops_for_5.0_min_referenceTime_30.0_min_2020-2-15_13_24.csv\n",
      "using sensor 5 specification\n",
      "Reading file ../../../data/newgen-test/NewGeneration/data_isopropanol_raisin_apple_juice_wodka_coffee_powder_red_Wine_5_loops_for_5.0_min_referenceTime_30.0_min_2020-2-15_23_37.csv\n",
      "using sensor 5 specification\n",
      "Reading file ../../../data/newgen-test/NewGeneration/data_raisin_coffee_powder_orange_juice_red_wine_isopropanol_wodka_10_loops_for_5.0_min_referenceTime_5.0_min_2020-3-2_18_14.csv\n",
      "using sensor 5 specification\n",
      "Reading file ../../../data/newgen-test/NewGeneration/data_raisin_coffee_powder_orange_juice_red_wine_isopropanol_wodka_10_loops_for_5.0_min_referenceTime_5.0_min_2020-3-3_9_53.csv\n",
      "using sensor 5 specification\n",
      "Read 8 files\n"
     ]
    }
   ],
   "source": [
    "data_tuple = file_reader.read_all_files_in_folder('../../../data/newgen-test/NewGeneration')\n",
    "#data_tuple = dp.remove_broken_channels_multi_files(data_tuple)\n",
    "functionalisations, working_channels, all_data = data_tuple\n",
    "\n",
    "#brokens = [22, 31]#np.array([5,6,32,42])#[22,31])\n",
    "#functionalisations[brokens] = -1"
   ]
  },
  {
   "cell_type": "code",
   "execution_count": 35,
   "metadata": {},
   "outputs": [],
   "source": [
    "measurements_per_file = {}\n",
    "for file in all_data:\n",
    "    measurements_per_file[file] = dp.get_labeled_measurements(all_data[file], working_channels, functionalisations)"
   ]
  },
  {
   "cell_type": "code",
   "execution_count": 36,
   "metadata": {},
   "outputs": [
    {
     "name": "stdout",
     "output_type": "stream",
     "text": [
      "file:  ../../../data/newgen-test/NewGeneration/data_apple_juice_coffee_powder_red_Wine_wodka_orange_juice_raisin_3_loops_for_5.0_min_referenceTime_30.0_min_2020-2-19_8_8.csv\n"
     ]
    },
    {
     "ename": "ValueError",
     "evalue": "Unknown standardization type",
     "output_type": "error",
     "traceback": [
      "\u001b[0;31m---------------------------------------------------------------------------\u001b[0m",
      "\u001b[0;31mValueError\u001b[0m                                Traceback (most recent call last)",
      "\u001b[0;32m<ipython-input-36-e81a55d357c8>\u001b[0m in \u001b[0;36m<module>\u001b[0;34m\u001b[0m\n\u001b[1;32m      4\u001b[0m     \u001b[0madding\u001b[0m \u001b[0;34m=\u001b[0m \u001b[0mmeasurements_per_file\u001b[0m\u001b[0;34m[\u001b[0m\u001b[0mfile\u001b[0m\u001b[0;34m]\u001b[0m\u001b[0;34m\u001b[0m\u001b[0;34m\u001b[0m\u001b[0m\n\u001b[1;32m      5\u001b[0m     \u001b[0;32mif\u001b[0m \u001b[0madding\u001b[0m \u001b[0;32mis\u001b[0m \u001b[0;32mnot\u001b[0m \u001b[0;32mNone\u001b[0m\u001b[0;34m:\u001b[0m\u001b[0;34m\u001b[0m\u001b[0;34m\u001b[0m\u001b[0m\n\u001b[0;32m----> 6\u001b[0;31m         \u001b[0madding\u001b[0m \u001b[0;34m=\u001b[0m \u001b[0mdp\u001b[0m\u001b[0;34m.\u001b[0m\u001b[0mstandardize_measurements\u001b[0m\u001b[0;34m(\u001b[0m\u001b[0madding\u001b[0m\u001b[0;34m,\u001b[0m \u001b[0mStandardizationType\u001b[0m\u001b[0;34m.\u001b[0m\u001b[0mLOWPASS_FILTER\u001b[0m\u001b[0;34m)\u001b[0m\u001b[0;34m\u001b[0m\u001b[0;34m\u001b[0m\u001b[0m\n\u001b[0m\u001b[1;32m      7\u001b[0m         \u001b[0mmeasurements\u001b[0m\u001b[0;34m.\u001b[0m\u001b[0mextend\u001b[0m\u001b[0;34m(\u001b[0m\u001b[0madding\u001b[0m\u001b[0;34m)\u001b[0m\u001b[0;34m\u001b[0m\u001b[0;34m\u001b[0m\u001b[0m\n\u001b[1;32m      8\u001b[0m \u001b[0;34m\u001b[0m\u001b[0m\n",
      "\u001b[0;32m/run/media/daniel/Windows/Users/Daniel/TUM/Kurse/2019 WS/Roboy Student Team/GIT~/roboy_smells/e_nose/data_processing.py\u001b[0m in \u001b[0;36mstandardize_measurements\u001b[0;34m(measurements, type, remove_ref)\u001b[0m\n\u001b[1;32m     25\u001b[0m         \u001b[0;32mreturn\u001b[0m \u001b[0mclean_measurements\u001b[0m\u001b[0;34m\u001b[0m\u001b[0;34m\u001b[0m\u001b[0m\n\u001b[1;32m     26\u001b[0m \u001b[0;34m\u001b[0m\u001b[0m\n\u001b[0;32m---> 27\u001b[0;31m     \u001b[0;32mraise\u001b[0m \u001b[0mValueError\u001b[0m\u001b[0;34m(\u001b[0m\u001b[0;34m'Unknown standardization type'\u001b[0m\u001b[0;34m)\u001b[0m\u001b[0;34m\u001b[0m\u001b[0;34m\u001b[0m\u001b[0m\n\u001b[0m\u001b[1;32m     28\u001b[0m \u001b[0;34m\u001b[0m\u001b[0m\n\u001b[1;32m     29\u001b[0m \u001b[0;34m\u001b[0m\u001b[0m\n",
      "\u001b[0;31mValueError\u001b[0m: Unknown standardization type"
     ]
    }
   ],
   "source": [
    "measurements = []\n",
    "for file in measurements_per_file:\n",
    "    print(\"file: \",file)\n",
    "    adding = measurements_per_file[file]\n",
    "    if adding is not None:\n",
    "        adding = dp.standardize_measurements(adding, StandardizationType.LOWPASS_FILTER)\n",
    "        measurements.extend(adding)\n",
    "\n",
    "print(len(measurements))"
   ]
  },
  {
   "cell_type": "code",
   "execution_count": 6,
   "metadata": {},
   "outputs": [],
   "source": [
    "#for i, m in enumerate(measurements):\n",
    "    #print(\"%i: %s\" % (i,m.label))\n",
    "    #data_visualization.draw_meas_channel_over_time(m, functionalisations)"
   ]
  },
  {
   "cell_type": "code",
   "execution_count": 37,
   "metadata": {},
   "outputs": [
    {
     "name": "stdout",
     "output_type": "stream",
     "text": [
      "Standardized\n"
     ]
    },
    {
     "ename": "IndexError",
     "evalue": "list index out of range",
     "output_type": "error",
     "traceback": [
      "\u001b[0;31m---------------------------------------------------------------------------\u001b[0m",
      "\u001b[0;31mIndexError\u001b[0m                                Traceback (most recent call last)",
      "\u001b[0;32m<ipython-input-37-d406485c7cb9>\u001b[0m in \u001b[0;36m<module>\u001b[0;34m\u001b[0m\n\u001b[1;32m      1\u001b[0m \u001b[0mprint\u001b[0m\u001b[0;34m(\u001b[0m\u001b[0;34m'Standardized'\u001b[0m\u001b[0;34m)\u001b[0m\u001b[0;34m\u001b[0m\u001b[0;34m\u001b[0m\u001b[0m\n\u001b[0;32m----> 2\u001b[0;31m \u001b[0mprint\u001b[0m\u001b[0;34m(\u001b[0m\u001b[0mmeasurements\u001b[0m\u001b[0;34m[\u001b[0m\u001b[0;36m40\u001b[0m\u001b[0;34m]\u001b[0m\u001b[0;34m.\u001b[0m\u001b[0mget_data\u001b[0m\u001b[0;34m(\u001b[0m\u001b[0mstandardize\u001b[0m\u001b[0;34m=\u001b[0m\u001b[0;32mTrue\u001b[0m\u001b[0;34m)\u001b[0m\u001b[0;34m)\u001b[0m\u001b[0;34m\u001b[0m\u001b[0;34m\u001b[0m\u001b[0m\n\u001b[0m\u001b[1;32m      3\u001b[0m \u001b[0mprint\u001b[0m\u001b[0;34m(\u001b[0m\u001b[0;34m'Not'\u001b[0m\u001b[0;34m)\u001b[0m\u001b[0;34m\u001b[0m\u001b[0;34m\u001b[0m\u001b[0m\n\u001b[1;32m      4\u001b[0m \u001b[0mprint\u001b[0m\u001b[0;34m(\u001b[0m\u001b[0mmeasurements\u001b[0m\u001b[0;34m[\u001b[0m\u001b[0;36m40\u001b[0m\u001b[0;34m]\u001b[0m\u001b[0;34m.\u001b[0m\u001b[0mget_data\u001b[0m\u001b[0;34m(\u001b[0m\u001b[0mstandardize\u001b[0m\u001b[0;34m=\u001b[0m\u001b[0;32mFalse\u001b[0m\u001b[0;34m)\u001b[0m\u001b[0;34m)\u001b[0m\u001b[0;34m\u001b[0m\u001b[0;34m\u001b[0m\u001b[0m\n\u001b[1;32m      5\u001b[0m \u001b[0mprint\u001b[0m\u001b[0;34m(\u001b[0m\u001b[0;34m'Diff'\u001b[0m\u001b[0;34m)\u001b[0m\u001b[0;34m\u001b[0m\u001b[0;34m\u001b[0m\u001b[0m\n",
      "\u001b[0;31mIndexError\u001b[0m: list index out of range"
     ]
    }
   ],
   "source": [
    "print('Standardized')\n",
    "print(measurements[40].get_data(standardize=True))\n",
    "print('Not')\n",
    "print(measurements[40].get_data(standardize=False))\n",
    "print('Diff')\n",
    "print(measurements[40].get_data() -measurements[40].get_data(standardize=False))\n"
   ]
  }
 ],
 "metadata": {
  "kernelspec": {
   "display_name": "Python 3",
   "language": "python",
   "name": "python3"
  },
  "language_info": {
   "codemirror_mode": {
    "name": "ipython",
    "version": 3
   },
   "file_extension": ".py",
   "mimetype": "text/x-python",
   "name": "python",
   "nbconvert_exporter": "python",
   "pygments_lexer": "ipython3",
   "version": "3.8.1"
  }
 },
 "nbformat": 4,
 "nbformat_minor": 2
}
