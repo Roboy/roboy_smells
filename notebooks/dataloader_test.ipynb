{
 "cells": [
  {
   "cell_type": "code",
   "execution_count": 1,
   "metadata": {},
   "outputs": [],
   "source": [
    "import os, sys\n",
    "root_path = os.path.abspath(os.path.join('..'))\n",
    "if root_path not in sys.path:\n",
    "    sys.path.append(root_path)"
   ]
  },
  {
   "cell_type": "code",
   "execution_count": 2,
   "metadata": {},
   "outputs": [],
   "source": [
    "from e_nose import file_reader \n",
    "from e_nose import data_processing as dp\n",
    "from e_nose import data_visualization\n",
    "from e_nose.measurements import Measurement, StandardizationType\n",
    "\n",
    "%reload_ext autoreload\n",
    "%autoreload 2"
   ]
  },
  {
   "cell_type": "code",
   "execution_count": 3,
   "metadata": {},
   "outputs": [
    {
     "name": "stdout",
     "output_type": "stream",
     "text": [
      "Reading file ../../../data/newgen-test/NewGeneration/for_training/data_coffee_powder_orange_juice_isopropanol_raisin_red_Wine_wodka_10_loops_for_5.0_min_referenceTime_30.0_min_2020-2-28_7_57_cleaned.csv\n",
      "using sensor 5 specification\n",
      "Reading file ../../../data/newgen-test/NewGeneration/for_training/data_raisin_coffee_powder_orange_juice_red_wine_isopropanol_wodka_10_loops_for_5.0_min_referenceTime_5.0_min_2020-3-2_18_14_cleaned.csv\n",
      "using sensor 5 specification\n",
      "Reading file ../../../data/newgen-test/NewGeneration/for_training/data_raisin_coffee_powder_orange_juice_red_wine_isopropanol_wodka_10_loops_for_5.0_min_referenceTime_5.0_min_2020-3-3_9_53_cleaned.csv\n",
      "using sensor 5 specification\n",
      "Read 3 files\n"
     ]
    }
   ],
   "source": [
    "data_tuple = file_reader.read_all_files_in_folder('../../../data/newgen-test/NewGeneration/for_training')\n",
    "#data_tuple = dp.remove_broken_channels_multi_files(data_tuple)\n",
    "functionalisations, working_channels, all_data = data_tuple\n",
    "\n",
    "#brokens = [22, 31]#np.array([5,6,32,42])#[22,31])\n",
    "#functionalisations[brokens] = -1"
   ]
  },
  {
   "cell_type": "code",
   "execution_count": 4,
   "metadata": {},
   "outputs": [],
   "source": [
    "measurements_per_file = {}\n",
    "for file in all_data:\n",
    "    measurements_per_file[file] = dp.get_labeled_measurements(all_data[file], working_channels, functionalisations)"
   ]
  },
  {
   "cell_type": "code",
   "execution_count": 5,
   "metadata": {},
   "outputs": [
    {
     "name": "stdout",
     "output_type": "stream",
     "text": [
      "file:  ../../../data/newgen-test/NewGeneration/for_training/data_coffee_powder_orange_juice_isopropanol_raisin_red_Wine_wodka_10_loops_for_5.0_min_referenceTime_30.0_min_2020-2-28_7_57_cleaned.csv\n",
      "file:  ../../../data/newgen-test/NewGeneration/for_training/data_raisin_coffee_powder_orange_juice_red_wine_isopropanol_wodka_10_loops_for_5.0_min_referenceTime_5.0_min_2020-3-2_18_14_cleaned.csv\n",
      "file:  ../../../data/newgen-test/NewGeneration/for_training/data_raisin_coffee_powder_orange_juice_red_wine_isopropanol_wodka_10_loops_for_5.0_min_referenceTime_5.0_min_2020-3-3_9_53_cleaned.csv\n",
      "140\n"
     ]
    }
   ],
   "source": [
    "measurements = []\n",
    "for file in measurements_per_file:\n",
    "    print(\"file: \",file)\n",
    "    adding = measurements_per_file[file]\n",
    "    if adding is not None:\n",
    "        adding = dp.standardize_measurements(adding, StandardizationType.LOWPASS_FILTER)\n",
    "        measurements.extend(adding)\n",
    "\n",
    "print(len(measurements))"
   ]
  },
  {
   "cell_type": "code",
   "execution_count": 6,
   "metadata": {},
   "outputs": [
    {
     "data": {
      "text/plain": [
       "{'coffee_powder': 28,\n",
       " 'orange_juice': 24,\n",
       " 'isopropanol': 21,\n",
       " 'raisin': 30,\n",
       " 'red_Wine': 8,\n",
       " 'wodka': 19,\n",
       " 'red_wine': 10}"
      ]
     },
     "execution_count": 6,
     "metadata": {},
     "output_type": "execute_result"
    }
   ],
   "source": [
    "dp.count_measurements_by_label(measurements)"
   ]
  },
  {
   "cell_type": "code",
   "execution_count": 7,
   "metadata": {},
   "outputs": [
    {
     "name": "stdout",
     "output_type": "stream",
     "text": [
      "Reducing all labels to 8 measurements each to make sure they are balanced...\n"
     ]
    },
    {
     "data": {
      "text/plain": [
       "{'coffee_powder': 8,\n",
       " 'orange_juice': 8,\n",
       " 'isopropanol': 8,\n",
       " 'raisin': 8,\n",
       " 'red_Wine': 8,\n",
       " 'wodka': 8,\n",
       " 'red_wine': 8}"
      ]
     },
     "execution_count": 7,
     "metadata": {},
     "output_type": "execute_result"
    }
   ],
   "source": [
    "balanced_measurements = dp.balance_measurements_by_label(measurements)\n",
    "dp.count_measurements_by_label(balanced_measurements)"
   ]
  },
  {
   "cell_type": "code",
   "execution_count": 8,
   "metadata": {},
   "outputs": [],
   "source": [
    "#for i, m in enumerate(measurements):\n",
    "    #print(\"%i: %s\" % (i,m.label))\n",
    "    #data_visualization.draw_meas_channel_over_time(m, functionalisations)"
   ]
  },
  {
   "cell_type": "code",
   "execution_count": 9,
   "metadata": {},
   "outputs": [
    {
     "name": "stdout",
     "output_type": "stream",
     "text": [
      "Standardized\n",
      "[[-1.01483821e-03  5.09633066e-04 -2.02076439e-05 ...  2.25007762e-03\n",
      "  -5.85680702e-04 -1.66208138e-03]\n",
      " [-1.01382438e-03  2.85833597e-04 -4.71305549e-04 ... -1.53575757e-03\n",
      "  -3.40387675e-03 -3.14034963e-03]\n",
      " [-3.01990519e-03 -2.06201874e-03 -3.63437818e-03 ... -2.21137446e-03\n",
      "  -3.78547249e-03 -3.13721242e-03]\n",
      " ...\n",
      " [-4.35908817e-03 -6.20009153e-03 -1.00110666e-02 ... -1.32710924e-02\n",
      "  -8.60283984e-03 -5.21047916e-03]\n",
      " [-4.35473343e-03 -6.64384742e-03 -1.03432478e-02 ... -1.42187425e-02\n",
      "  -8.46516736e-03 -5.00731470e-03]\n",
      " [-3.99522479e-03 -6.52470376e-03 -1.12459742e-02 ... -1.36553345e-02\n",
      "  -7.55362968e-03 -4.50758599e-03]]\n",
      "Not\n",
      "[[6.74170069 6.79671198 6.78671695 ... 6.60759569 6.66031904 6.92096761]\n",
      " [6.74170069 6.79648847 6.78626538 ... 6.60380831 6.65749744 6.9194862 ]\n",
      " [6.73969159 6.79413855 6.78309867 ... 6.60313049 6.65711205 6.9194862 ]\n",
      " ...\n",
      " [6.73779698 6.78930952 6.77536609 ... 6.5904384  6.65144267 6.91691322]\n",
      " [6.73779698 6.78885912 6.77502357 ... 6.58947653 6.65157187 6.91711137]\n",
      " [6.73815249 6.78897174 6.77410959 ... 6.59002629 6.65247586 6.9176066 ]]\n",
      "Diff\n",
      "[[-6.74271553 -6.79620235 -6.78673716 ... -6.60534561 -6.66090472\n",
      "  -6.92262969]\n",
      " [-6.74271452 -6.79620263 -6.78673669 ... -6.60534407 -6.66090131\n",
      "  -6.92262655]\n",
      " [-6.7427115  -6.79620057 -6.78673305 ... -6.60534186 -6.66089753\n",
      "  -6.92262341]\n",
      " ...\n",
      " [-6.74215607 -6.79550962 -6.78537716 ... -6.60370949 -6.66004551\n",
      "  -6.9221237 ]\n",
      " [-6.74215171 -6.79550297 -6.78536681 ... -6.60369528 -6.66003704\n",
      "  -6.92211869]\n",
      " [-6.74214772 -6.79549645 -6.78535557 ... -6.60368162 -6.66002949\n",
      "  -6.92211418]]\n"
     ]
    }
   ],
   "source": [
    "print('Standardized')\n",
    "print(measurements[40].get_data(standardize=True))\n",
    "print('Not')\n",
    "print(measurements[40].get_data(standardize=False))\n",
    "print('Diff')\n",
    "print(measurements[40].get_data() -measurements[40].get_data(standardize=False))\n"
   ]
  }
 ],
 "metadata": {
  "kernelspec": {
   "display_name": "Python 3",
   "language": "python",
   "name": "python3"
  },
  "language_info": {
   "codemirror_mode": {
    "name": "ipython",
    "version": 3
   },
   "file_extension": ".py",
   "mimetype": "text/x-python",
   "name": "python",
   "nbconvert_exporter": "python",
   "pygments_lexer": "ipython3",
   "version": "3.8.1"
  }
 },
 "nbformat": 4,
 "nbformat_minor": 2
}
