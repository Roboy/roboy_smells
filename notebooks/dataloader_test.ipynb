{
 "cells": [
  {
   "cell_type": "code",
   "execution_count": 1,
   "metadata": {},
   "outputs": [],
   "source": [
    "import os, sys\n",
    "root_path = os.path.abspath(os.path.join('..'))\n",
    "if root_path not in sys.path:\n",
    "    sys.path.append(root_path)"
   ]
  },
  {
   "cell_type": "code",
   "execution_count": 2,
   "metadata": {},
   "outputs": [],
   "source": [
    "from e_nose import file_reader \n",
    "from e_nose import data_processing as dp\n",
    "from e_nose import data_visualization\n",
    "from e_nose.measurements import Measurement, StandardizationType\n",
    "\n",
    "%reload_ext autoreload\n",
    "%autoreload 2"
   ]
  },
  {
   "cell_type": "code",
   "execution_count": 3,
   "metadata": {},
   "outputs": [
    {
     "name": "stdout",
     "output_type": "stream",
     "text": [
      "Reading file ../../../data/newgen-test/NewGeneration/data_apple_juice_coffee_powder_red_Wine_wodka_orange_juice_raisin_8_loops_for_5.0_min_referenceTime_30.0_min_2020-2-17_22_33.csv\n",
      "using sensor 5 specification\n",
      "Reading file ../../../data/newgen-test/NewGeneration/data_apple_juice_coffee_powder_red_Wine_wodka_orange_juice_raisin_8_loops_for_5.0_min_referenceTime_30.0_min_2020-2-18_7_14.csv\n",
      "using sensor 5 specification\n",
      "Reading file ../../../data/newgen-test/NewGeneration/data_coffee_powder_orange_juice_isopropanol_raisin_red_Wine_wodka_10_loops_for_5.0_min_referenceTime_30.0_min_2020-2-28_7_57.csv\n",
      "using sensor 5 specification\n",
      "Reading file ../../../data/newgen-test/NewGeneration/data_isopropanol_raisin_apple_juice_wodka_coffee_powder_red_Wine_2_loops_for_5.0_min_referenceTime_30.0_min_2020-2-15_13_24.csv\n",
      "using sensor 5 specification\n",
      "Reading file ../../../data/newgen-test/NewGeneration/data_isopropanol_raisin_apple_juice_wodka_coffee_powder_red_Wine_5_loops_for_5.0_min_referenceTime_30.0_min_2020-2-15_23_37.csv\n",
      "using sensor 5 specification\n",
      "Reading file ../../../data/newgen-test/NewGeneration/data_raisin_coffee_powder_orange_juice_red_wine_isopropanol_wodka_10_loops_for_5.0_min_referenceTime_5.0_min_2020-3-2_18_14.csv\n",
      "using sensor 5 specification\n",
      "Reading file ../../../data/newgen-test/NewGeneration/data_raisin_coffee_powder_orange_juice_red_wine_isopropanol_wodka_10_loops_for_5.0_min_referenceTime_5.0_min_2020-3-3_9_53.csv\n",
      "using sensor 5 specification\n",
      "Read 7 files\n"
     ]
    }
   ],
   "source": [
    "data_tuple = file_reader.read_all_files_in_folder('../../../data/newgen-test/NewGeneration')\n",
    "#data_tuple = dp.remove_broken_channels_multi_files(data_tuple)\n",
    "functionalisations, working_channels, all_data = data_tuple\n",
    "\n",
    "#brokens = [22, 31]#np.array([5,6,32,42])#[22,31])\n",
    "#functionalisations[brokens] = -1"
   ]
  },
  {
   "cell_type": "code",
   "execution_count": 4,
   "metadata": {},
   "outputs": [],
   "source": [
    "measurements_per_file = {}\n",
    "for file in all_data:\n",
    "    measurements_per_file[file] = dp.get_labeled_measurements(all_data[file], working_channels, functionalisations)"
   ]
  },
  {
   "cell_type": "code",
   "execution_count": 5,
   "metadata": {},
   "outputs": [
    {
     "name": "stdout",
     "output_type": "stream",
     "text": [
      "file:  ../../../data/newgen-test/NewGeneration/data_apple_juice_coffee_powder_red_Wine_wodka_orange_juice_raisin_8_loops_for_5.0_min_referenceTime_30.0_min_2020-2-17_22_33.csv\n",
      "file:  ../../../data/newgen-test/NewGeneration/data_apple_juice_coffee_powder_red_Wine_wodka_orange_juice_raisin_8_loops_for_5.0_min_referenceTime_30.0_min_2020-2-18_7_14.csv\n",
      "file:  ../../../data/newgen-test/NewGeneration/data_coffee_powder_orange_juice_isopropanol_raisin_red_Wine_wodka_10_loops_for_5.0_min_referenceTime_30.0_min_2020-2-28_7_57.csv\n",
      "file:  ../../../data/newgen-test/NewGeneration/data_isopropanol_raisin_apple_juice_wodka_coffee_powder_red_Wine_2_loops_for_5.0_min_referenceTime_30.0_min_2020-2-15_13_24.csv\n",
      "file:  ../../../data/newgen-test/NewGeneration/data_isopropanol_raisin_apple_juice_wodka_coffee_powder_red_Wine_5_loops_for_5.0_min_referenceTime_30.0_min_2020-2-15_23_37.csv\n",
      "file:  ../../../data/newgen-test/NewGeneration/data_raisin_coffee_powder_orange_juice_red_wine_isopropanol_wodka_10_loops_for_5.0_min_referenceTime_5.0_min_2020-3-2_18_14.csv\n",
      "file:  ../../../data/newgen-test/NewGeneration/data_raisin_coffee_powder_orange_juice_red_wine_isopropanol_wodka_10_loops_for_5.0_min_referenceTime_5.0_min_2020-3-3_9_53.csv\n",
      "226\n"
     ]
    }
   ],
   "source": [
    "measurements = []\n",
    "for file in measurements_per_file:\n",
    "    print(\"file: \",file)\n",
    "    adding = measurements_per_file[file]\n",
    "    if adding is not None:\n",
    "        adding = dp.standardize_measurements(adding, StandardizationType.LOWPASS_FILTER)\n",
    "        measurements.extend(adding)\n",
    "\n",
    "print(len(measurements))"
   ]
  },
  {
   "cell_type": "code",
   "execution_count": 7,
   "metadata": {},
   "outputs": [
    {
     "data": {
      "text/plain": [
       "{'apple_juice': 12,\n",
       " 'coffee_powder': 42,\n",
       " 'red_Wine': 21,\n",
       " 'wodka': 34,\n",
       " 'orange_juice': 29,\n",
       " 'raisin': 44,\n",
       " 'isopropanol': 31,\n",
       " 'red_wine': 13}"
      ]
     },
     "execution_count": 7,
     "metadata": {},
     "output_type": "execute_result"
    }
   ],
   "source": [
    "dp.count_measurements_by_label(measurements)"
   ]
  },
  {
   "cell_type": "code",
   "execution_count": 8,
   "metadata": {},
   "outputs": [
    {
     "name": "stdout",
     "output_type": "stream",
     "text": [
      "Reducing all labels to 12 measurements each to make sure they are balanced...\n"
     ]
    },
    {
     "data": {
      "text/plain": [
       "{'apple_juice': 12,\n",
       " 'coffee_powder': 12,\n",
       " 'red_Wine': 12,\n",
       " 'wodka': 12,\n",
       " 'orange_juice': 12,\n",
       " 'raisin': 12,\n",
       " 'isopropanol': 12,\n",
       " 'red_wine': 12}"
      ]
     },
     "execution_count": 8,
     "metadata": {},
     "output_type": "execute_result"
    }
   ],
   "source": [
    "balanced_measurements = dp.balance_measurements_by_label(measurements)\n",
    "dp.count_measurements_by_label(balanced_measurements)"
   ]
  },
  {
   "cell_type": "code",
   "execution_count": null,
   "metadata": {},
   "outputs": [],
   "source": [
    "#for i, m in enumerate(measurements):\n",
    "    #print(\"%i: %s\" % (i,m.label))\n",
    "    #data_visualization.draw_meas_channel_over_time(m, functionalisations)"
   ]
  },
  {
   "cell_type": "code",
   "execution_count": null,
   "metadata": {},
   "outputs": [],
   "source": [
    "print('Standardized')\n",
    "print(measurements[40].get_data(standardize=True))\n",
    "print('Not')\n",
    "print(measurements[40].get_data(standardize=False))\n",
    "print('Diff')\n",
    "print(measurements[40].get_data() -measurements[40].get_data(standardize=False))\n"
   ]
  }
 ],
 "metadata": {
  "kernelspec": {
   "display_name": "Python 3",
   "language": "python",
   "name": "python3"
  },
  "language_info": {
   "codemirror_mode": {
    "name": "ipython",
    "version": 3
   },
   "file_extension": ".py",
   "mimetype": "text/x-python",
   "name": "python",
   "nbconvert_exporter": "python",
   "pygments_lexer": "ipython3",
   "version": "3.8.1"
  }
 },
 "nbformat": 4,
 "nbformat_minor": 2
}
